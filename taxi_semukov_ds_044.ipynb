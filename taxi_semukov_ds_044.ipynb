{
 "cells": [
  {
   "cell_type": "markdown",
   "id": "69a631c2",
   "metadata": {},
   "source": [
    "<h1>Содержание<span class=\"tocSkip\"></span></h1>\n",
    "<div class=\"toc\"><ul class=\"toc-item\"><li><span><a href=\"#Подготовка\" data-toc-modified-id=\"Подготовка-1\"><span class=\"toc-item-num\">1&nbsp;&nbsp;</span>Подготовка</a></span></li><li><span><a href=\"#Анализ\" data-toc-modified-id=\"Анализ-2\"><span class=\"toc-item-num\">2&nbsp;&nbsp;</span>Анализ</a></span></li><li><span><a href=\"#Обучение\" data-toc-modified-id=\"Обучение-3\"><span class=\"toc-item-num\">3&nbsp;&nbsp;</span>Обучение</a></span></li><li><span><a href=\"#Тестирование\" data-toc-modified-id=\"Тестирование-4\"><span class=\"toc-item-num\">4&nbsp;&nbsp;</span>Тестирование</a></span></li><li><span><a href=\"#Чек-лист-проверки\" data-toc-modified-id=\"Чек-лист-проверки-5\"><span class=\"toc-item-num\">5&nbsp;&nbsp;</span>Чек-лист проверки</a></span></li></ul></div>"
   ]
  },
  {
   "cell_type": "markdown",
   "id": "642ce139",
   "metadata": {},
   "source": [
    "#  Прогнозирование заказов такси"
   ]
  },
  {
   "cell_type": "markdown",
   "id": "fe9ff52f",
   "metadata": {},
   "source": [
    "Компания «Чётенькое такси» собрала исторические данные о заказах такси в аэропортах. Чтобы привлекать больше водителей в период пиковой нагрузки, нужно спрогнозировать количество заказов такси на следующий час. Постройте модель для такого предсказания.\n",
    "\n",
    "Значение метрики *RMSE* на тестовой выборке должно быть не больше 48.\n",
    "\n",
    "Вам нужно:\n",
    "\n",
    "1. Загрузить данные и выполнить их ресемплирование по одному часу.\n",
    "2. Проанализировать данные.\n",
    "3. Обучить разные модели с различными гиперпараметрами. Сделать тестовую выборку размером 10% от исходных данных.\n",
    "4. Проверить данные на тестовой выборке и сделать выводы.\n",
    "\n",
    "\n",
    "Данные лежат в файле `taxi.csv`. Количество заказов находится в столбце `num_orders` (от англ. *number of orders*, «число заказов»)."
   ]
  },
  {
   "cell_type": "markdown",
   "id": "a6e942e2",
   "metadata": {},
   "source": [
    "## Цели проекта\n",
    "Построение и выбор модели для прогноза количества заказов такси на следующий час."
   ]
  },
  {
   "cell_type": "markdown",
   "id": "f1d05d82",
   "metadata": {},
   "source": [
    "## Подготовка"
   ]
  },
  {
   "cell_type": "code",
   "execution_count": 1,
   "id": "775c6a51",
   "metadata": {},
   "outputs": [],
   "source": [
    "import pandas as pd\n",
    "import numpy as np\n",
    "import re\n",
    "from scipy import stats as st\n",
    "import matplotlib.pyplot as plt\n",
    "import seaborn as sns\n",
    "import lightgbm\n",
    "import catboost\n",
    " \n",
    "from numpy.random import RandomState\n",
    "from scipy import stats\n",
    "from statsmodels.tsa.seasonal import seasonal_decompose\n",
    "from sklearn.preprocessing import StandardScaler\n",
    "from sklearn.model_selection import train_test_split, cross_val_score, GridSearchCV, cross_validate, TimeSeriesSplit\n",
    "from sklearn.linear_model import LinearRegression\n",
    "from lightgbm import LGBMRegressor\n",
    "from sklearn.ensemble import GradientBoostingRegressor, RandomForestRegressor\n",
    "from sklearn.metrics import mean_squared_error, make_scorer"
   ]
  },
  {
   "cell_type": "code",
   "execution_count": 2,
   "id": "01c53abd",
   "metadata": {},
   "outputs": [
    {
     "name": "stdout",
     "output_type": "stream",
     "text": [
      "<class 'pandas.core.frame.DataFrame'>\n",
      "RangeIndex: 26496 entries, 0 to 26495\n",
      "Data columns (total 2 columns):\n",
      " #   Column      Non-Null Count  Dtype \n",
      "---  ------      --------------  ----- \n",
      " 0   datetime    26496 non-null  object\n",
      " 1   num_orders  26496 non-null  int64 \n",
      "dtypes: int64(1), object(1)\n",
      "memory usage: 414.1+ KB\n"
     ]
    }
   ],
   "source": [
    "# читаем данные из .csv файла с помощью метода read_csv()\n",
    "try:\n",
    "    df = pd.read_csv('D:\\\\python\\\\project_12\\\\taxi.csv')\n",
    "except:\n",
    "    df = pd.read_csv('https://code.s3.yandex.net/datasets/taxi.csv')\n",
    "\n",
    "# с помощью метода info() изучим структуру таблицы: типы данных, количество строк, столбцов, пропущенных данных.\n",
    "df.info()"
   ]
  },
  {
   "cell_type": "code",
   "execution_count": 3,
   "id": "8b3dc26f",
   "metadata": {},
   "outputs": [
    {
     "data": {
      "text/html": [
       "<div>\n",
       "<style scoped>\n",
       "    .dataframe tbody tr th:only-of-type {\n",
       "        vertical-align: middle;\n",
       "    }\n",
       "\n",
       "    .dataframe tbody tr th {\n",
       "        vertical-align: top;\n",
       "    }\n",
       "\n",
       "    .dataframe thead th {\n",
       "        text-align: right;\n",
       "    }\n",
       "</style>\n",
       "<table border=\"1\" class=\"dataframe\">\n",
       "  <thead>\n",
       "    <tr style=\"text-align: right;\">\n",
       "      <th></th>\n",
       "      <th>datetime</th>\n",
       "      <th>num_orders</th>\n",
       "    </tr>\n",
       "  </thead>\n",
       "  <tbody>\n",
       "    <tr>\n",
       "      <th>0</th>\n",
       "      <td>2018-03-01 00:00:00</td>\n",
       "      <td>9</td>\n",
       "    </tr>\n",
       "    <tr>\n",
       "      <th>1</th>\n",
       "      <td>2018-03-01 00:10:00</td>\n",
       "      <td>14</td>\n",
       "    </tr>\n",
       "    <tr>\n",
       "      <th>2</th>\n",
       "      <td>2018-03-01 00:20:00</td>\n",
       "      <td>28</td>\n",
       "    </tr>\n",
       "    <tr>\n",
       "      <th>3</th>\n",
       "      <td>2018-03-01 00:30:00</td>\n",
       "      <td>20</td>\n",
       "    </tr>\n",
       "    <tr>\n",
       "      <th>4</th>\n",
       "      <td>2018-03-01 00:40:00</td>\n",
       "      <td>32</td>\n",
       "    </tr>\n",
       "    <tr>\n",
       "      <th>5</th>\n",
       "      <td>2018-03-01 00:50:00</td>\n",
       "      <td>21</td>\n",
       "    </tr>\n",
       "    <tr>\n",
       "      <th>6</th>\n",
       "      <td>2018-03-01 01:00:00</td>\n",
       "      <td>7</td>\n",
       "    </tr>\n",
       "    <tr>\n",
       "      <th>7</th>\n",
       "      <td>2018-03-01 01:10:00</td>\n",
       "      <td>5</td>\n",
       "    </tr>\n",
       "    <tr>\n",
       "      <th>8</th>\n",
       "      <td>2018-03-01 01:20:00</td>\n",
       "      <td>17</td>\n",
       "    </tr>\n",
       "    <tr>\n",
       "      <th>9</th>\n",
       "      <td>2018-03-01 01:30:00</td>\n",
       "      <td>12</td>\n",
       "    </tr>\n",
       "  </tbody>\n",
       "</table>\n",
       "</div>"
      ],
      "text/plain": [
       "              datetime  num_orders\n",
       "0  2018-03-01 00:00:00           9\n",
       "1  2018-03-01 00:10:00          14\n",
       "2  2018-03-01 00:20:00          28\n",
       "3  2018-03-01 00:30:00          20\n",
       "4  2018-03-01 00:40:00          32\n",
       "5  2018-03-01 00:50:00          21\n",
       "6  2018-03-01 01:00:00           7\n",
       "7  2018-03-01 01:10:00           5\n",
       "8  2018-03-01 01:20:00          17\n",
       "9  2018-03-01 01:30:00          12"
      ]
     },
     "execution_count": 3,
     "metadata": {},
     "output_type": "execute_result"
    }
   ],
   "source": [
    "df.head(10)"
   ]
  },
  {
   "cell_type": "markdown",
   "id": "adc7b956",
   "metadata": {},
   "source": [
    "- В таблице 26496 столбцов\n",
    "- Тип данных object в столбце datetime нужно привести к типу datetime. Передадим в функцию read_csv() аргумент parse_dates (англ. «разобрать даты»).\n",
    "- Установим индекс таблицы равным столбцу datetime. Функции read_csv() передаем аргумент index_col (от англ. index column, «индексирующий столбец»)"
   ]
  },
  {
   "cell_type": "code",
   "execution_count": 4,
   "id": "3bf62e9f",
   "metadata": {},
   "outputs": [
    {
     "name": "stdout",
     "output_type": "stream",
     "text": [
      "<class 'pandas.core.frame.DataFrame'>\n",
      "DatetimeIndex: 26496 entries, 2018-03-01 00:00:00 to 2018-08-31 23:50:00\n",
      "Data columns (total 1 columns):\n",
      " #   Column      Non-Null Count  Dtype\n",
      "---  ------      --------------  -----\n",
      " 0   num_orders  26496 non-null  int64\n",
      "dtypes: int64(1)\n",
      "memory usage: 414.0 KB\n"
     ]
    }
   ],
   "source": [
    "# читаем данные из .csv файла с помощью метода read_csv()\n",
    "try:\n",
    "    df = pd.read_csv('D:\\\\python\\\\project_12\\\\taxi.csv', index_col=[0], parse_dates=[0])\n",
    "except:\n",
    "    df = pd.read_csv('https://code.s3.yandex.net/datasets/taxi.csv', index_col=[0], parse_dates=[0])\n",
    "\n",
    "# с помощью метода info() изучим структуру таблицы: типы данных, количество строк, столбцов, пропущенных данных.\n",
    "df.info()"
   ]
  },
  {
   "cell_type": "markdown",
   "id": "539b2a2f",
   "metadata": {},
   "source": [
    "Посмотрим вновь на содержимое таблицы."
   ]
  },
  {
   "cell_type": "code",
   "execution_count": 5,
   "id": "706a5df3",
   "metadata": {
    "scrolled": true
   },
   "outputs": [
    {
     "data": {
      "text/html": [
       "<div>\n",
       "<style scoped>\n",
       "    .dataframe tbody tr th:only-of-type {\n",
       "        vertical-align: middle;\n",
       "    }\n",
       "\n",
       "    .dataframe tbody tr th {\n",
       "        vertical-align: top;\n",
       "    }\n",
       "\n",
       "    .dataframe thead th {\n",
       "        text-align: right;\n",
       "    }\n",
       "</style>\n",
       "<table border=\"1\" class=\"dataframe\">\n",
       "  <thead>\n",
       "    <tr style=\"text-align: right;\">\n",
       "      <th></th>\n",
       "      <th>num_orders</th>\n",
       "    </tr>\n",
       "    <tr>\n",
       "      <th>datetime</th>\n",
       "      <th></th>\n",
       "    </tr>\n",
       "  </thead>\n",
       "  <tbody>\n",
       "    <tr>\n",
       "      <th>2018-03-01 00:00:00</th>\n",
       "      <td>9</td>\n",
       "    </tr>\n",
       "    <tr>\n",
       "      <th>2018-03-01 00:10:00</th>\n",
       "      <td>14</td>\n",
       "    </tr>\n",
       "    <tr>\n",
       "      <th>2018-03-01 00:20:00</th>\n",
       "      <td>28</td>\n",
       "    </tr>\n",
       "    <tr>\n",
       "      <th>2018-03-01 00:30:00</th>\n",
       "      <td>20</td>\n",
       "    </tr>\n",
       "    <tr>\n",
       "      <th>2018-03-01 00:40:00</th>\n",
       "      <td>32</td>\n",
       "    </tr>\n",
       "    <tr>\n",
       "      <th>2018-03-01 00:50:00</th>\n",
       "      <td>21</td>\n",
       "    </tr>\n",
       "    <tr>\n",
       "      <th>2018-03-01 01:00:00</th>\n",
       "      <td>7</td>\n",
       "    </tr>\n",
       "    <tr>\n",
       "      <th>2018-03-01 01:10:00</th>\n",
       "      <td>5</td>\n",
       "    </tr>\n",
       "    <tr>\n",
       "      <th>2018-03-01 01:20:00</th>\n",
       "      <td>17</td>\n",
       "    </tr>\n",
       "    <tr>\n",
       "      <th>2018-03-01 01:30:00</th>\n",
       "      <td>12</td>\n",
       "    </tr>\n",
       "  </tbody>\n",
       "</table>\n",
       "</div>"
      ],
      "text/plain": [
       "                     num_orders\n",
       "datetime                       \n",
       "2018-03-01 00:00:00           9\n",
       "2018-03-01 00:10:00          14\n",
       "2018-03-01 00:20:00          28\n",
       "2018-03-01 00:30:00          20\n",
       "2018-03-01 00:40:00          32\n",
       "2018-03-01 00:50:00          21\n",
       "2018-03-01 01:00:00           7\n",
       "2018-03-01 01:10:00           5\n",
       "2018-03-01 01:20:00          17\n",
       "2018-03-01 01:30:00          12"
      ]
     },
     "execution_count": 5,
     "metadata": {},
     "output_type": "execute_result"
    }
   ],
   "source": [
    "df.head(10)"
   ]
  },
  {
   "cell_type": "code",
   "execution_count": 6,
   "id": "7a0e0a56",
   "metadata": {},
   "outputs": [
    {
     "data": {
      "text/plain": [
       "26415"
      ]
     },
     "execution_count": 6,
     "metadata": {},
     "output_type": "execute_result"
    }
   ],
   "source": [
    "df.duplicated().sum()"
   ]
  },
  {
   "cell_type": "markdown",
   "id": "fb612c5d",
   "metadata": {},
   "source": [
    "Проверка на дубликаты ничего не дает, так как по сути у нас тут один столбец."
   ]
  },
  {
   "cell_type": "code",
   "execution_count": 7,
   "id": "a8be089d",
   "metadata": {},
   "outputs": [
    {
     "data": {
      "text/html": [
       "<div>\n",
       "<style scoped>\n",
       "    .dataframe tbody tr th:only-of-type {\n",
       "        vertical-align: middle;\n",
       "    }\n",
       "\n",
       "    .dataframe tbody tr th {\n",
       "        vertical-align: top;\n",
       "    }\n",
       "\n",
       "    .dataframe thead th {\n",
       "        text-align: right;\n",
       "    }\n",
       "</style>\n",
       "<table border=\"1\" class=\"dataframe\">\n",
       "  <thead>\n",
       "    <tr style=\"text-align: right;\">\n",
       "      <th></th>\n",
       "      <th>count</th>\n",
       "      <th>mean</th>\n",
       "      <th>std</th>\n",
       "      <th>min</th>\n",
       "      <th>25%</th>\n",
       "      <th>50%</th>\n",
       "      <th>75%</th>\n",
       "      <th>max</th>\n",
       "    </tr>\n",
       "  </thead>\n",
       "  <tbody>\n",
       "    <tr>\n",
       "      <th>num_orders</th>\n",
       "      <td>26496.0</td>\n",
       "      <td>14.070463</td>\n",
       "      <td>9.21133</td>\n",
       "      <td>0.0</td>\n",
       "      <td>8.0</td>\n",
       "      <td>13.0</td>\n",
       "      <td>19.0</td>\n",
       "      <td>119.0</td>\n",
       "    </tr>\n",
       "  </tbody>\n",
       "</table>\n",
       "</div>"
      ],
      "text/plain": [
       "              count       mean      std  min  25%   50%   75%    max\n",
       "num_orders  26496.0  14.070463  9.21133  0.0  8.0  13.0  19.0  119.0"
      ]
     },
     "execution_count": 7,
     "metadata": {},
     "output_type": "execute_result"
    }
   ],
   "source": [
    "df.describe().T"
   ]
  },
  {
   "cell_type": "markdown",
   "id": "04d3ee51",
   "metadata": {},
   "source": [
    "В среднем мы имеем 13-14 заказов каждые 10 минут. Максимум 119."
   ]
  },
  {
   "cell_type": "code",
   "execution_count": 8,
   "id": "1004c2d5",
   "metadata": {
    "scrolled": true
   },
   "outputs": [
    {
     "data": {
      "text/plain": [
       "<AxesSubplot:>"
      ]
     },
     "execution_count": 8,
     "metadata": {},
     "output_type": "execute_result"
    },
    {
     "data": {
      "image/png": "[encoded data removed]",
      "text/plain": [
       "<Figure size 432x288 with 1 Axes>"
      ]
     },
     "metadata": {
      "needs_background": "light"
     },
     "output_type": "display_data"
    }
   ],
   "source": [
    "df['num_orders'].hist()"
   ]
  },
  {
   "cell_type": "markdown",
   "id": "95cdb9cf",
   "metadata": {},
   "source": [
    "Большинство заказов распределено в количестве до 40."
   ]
  },
  {
   "cell_type": "markdown",
   "id": "7c0a34b6",
   "metadata": {},
   "source": [
    "Проверим есть ли пропуски в таблице."
   ]
  },
  {
   "cell_type": "code",
   "execution_count": 9,
   "id": "06ee6d4d",
   "metadata": {},
   "outputs": [
    {
     "data": {
      "text/plain": [
       "num_orders    0\n",
       "dtype: int64"
      ]
     },
     "execution_count": 9,
     "metadata": {},
     "output_type": "execute_result"
    }
   ],
   "source": [
    "df.isna().sum()"
   ]
  },
  {
   "cell_type": "markdown",
   "id": "dd43537e",
   "metadata": {},
   "source": [
    "- Отсортируем индексы таблицы.\n",
    "- Чтобы проверить, в хронологическом ли порядке расположены даты и время, посмотрим атрибут индекса таблицы is_monotonic (англ. «монотонный»)."
   ]
  },
  {
   "cell_type": "code",
   "execution_count": 10,
   "id": "15dba314",
   "metadata": {},
   "outputs": [
    {
     "name": "stdout",
     "output_type": "stream",
     "text": [
      "True\n"
     ]
    }
   ],
   "source": [
    "df.sort_index(inplace=True)\n",
    "print(df.index.is_monotonic)"
   ]
  },
  {
   "cell_type": "markdown",
   "id": "3a2b8add",
   "metadata": {},
   "source": [
    "Порядок соблюдён."
   ]
  },
  {
   "cell_type": "markdown",
   "id": "b1e10347",
   "metadata": {},
   "source": [
    "Посмотрим на тренды заказов в нашей выборке в месяцы 2018 года."
   ]
  },
  {
   "cell_type": "code",
   "execution_count": 11,
   "id": "06b23042",
   "metadata": {
    "scrolled": true
   },
   "outputs": [
    {
     "data": {
      "image/png": "[encoded data removed]",
      "text/plain": [
       "<Figure size 432x288 with 1 Axes>"
      ]
     },
     "metadata": {
      "needs_background": "light"
     },
     "output_type": "display_data"
    }
   ],
   "source": [
    "df.resample('1M').mean().plot()\n",
    "plt.ylabel('Количество заказов')\n",
    "plt.xlabel('Дата')\n",
    "plt.title('Ресемплирование по месяцам');"
   ]
  },
  {
   "cell_type": "markdown",
   "id": "f04befff",
   "metadata": {},
   "source": [
    "Количество заказов с каждым месяцем только росло и за пол года показатели выросли более чем в 2 раза. Серьезный результат. Можно предположить, что в этот период монополисты как раз занимались уничтожением конкурентов. То есть цифровые платформы занимались \"освоением новых рынков\"."
   ]
  },
  {
   "cell_type": "markdown",
   "id": "7710a26d",
   "metadata": {},
   "source": [
    "Выполним ресемплирование(изменение интервала со значениями ряда) по одному часу. "
   ]
  },
  {
   "cell_type": "code",
   "execution_count": 12,
   "id": "f521da60",
   "metadata": {},
   "outputs": [
    {
     "data": {
      "text/html": [
       "<div>\n",
       "<style scoped>\n",
       "    .dataframe tbody tr th:only-of-type {\n",
       "        vertical-align: middle;\n",
       "    }\n",
       "\n",
       "    .dataframe tbody tr th {\n",
       "        vertical-align: top;\n",
       "    }\n",
       "\n",
       "    .dataframe thead th {\n",
       "        text-align: right;\n",
       "    }\n",
       "</style>\n",
       "<table border=\"1\" class=\"dataframe\">\n",
       "  <thead>\n",
       "    <tr style=\"text-align: right;\">\n",
       "      <th></th>\n",
       "      <th>num_orders</th>\n",
       "    </tr>\n",
       "    <tr>\n",
       "      <th>datetime</th>\n",
       "      <th></th>\n",
       "    </tr>\n",
       "  </thead>\n",
       "  <tbody>\n",
       "    <tr>\n",
       "      <th>2018-03-01 00:00:00</th>\n",
       "      <td>124</td>\n",
       "    </tr>\n",
       "    <tr>\n",
       "      <th>2018-03-01 01:00:00</th>\n",
       "      <td>85</td>\n",
       "    </tr>\n",
       "    <tr>\n",
       "      <th>2018-03-01 02:00:00</th>\n",
       "      <td>71</td>\n",
       "    </tr>\n",
       "    <tr>\n",
       "      <th>2018-03-01 03:00:00</th>\n",
       "      <td>66</td>\n",
       "    </tr>\n",
       "    <tr>\n",
       "      <th>2018-03-01 04:00:00</th>\n",
       "      <td>43</td>\n",
       "    </tr>\n",
       "  </tbody>\n",
       "</table>\n",
       "</div>"
      ],
      "text/plain": [
       "                     num_orders\n",
       "datetime                       \n",
       "2018-03-01 00:00:00         124\n",
       "2018-03-01 01:00:00          85\n",
       "2018-03-01 02:00:00          71\n",
       "2018-03-01 03:00:00          66\n",
       "2018-03-01 04:00:00          43"
      ]
     },
     "execution_count": 12,
     "metadata": {},
     "output_type": "execute_result"
    }
   ],
   "source": [
    "df = df.resample('1H').sum()\n",
    "df.head()"
   ]
  },
  {
   "cell_type": "markdown",
   "id": "b95a85b3",
   "metadata": {},
   "source": [
    "Построим график временного ряда."
   ]
  },
  {
   "cell_type": "code",
   "execution_count": 13,
   "id": "5b34092d",
   "metadata": {
    "scrolled": true
   },
   "outputs": [
    {
     "data": {
      "image/png": "[encoded data removed]",
      "text/plain": [
       "<Figure size 432x288 with 1 Axes>"
      ]
     },
     "metadata": {
      "needs_background": "light"
     },
     "output_type": "display_data"
    }
   ],
   "source": [
    "df.plot()\n",
    "plt.ylabel('Количество заказов')\n",
    "plt.xlabel('Дата')\n",
    "plt.title('Ресемплирование по часам');"
   ]
  },
  {
   "cell_type": "markdown",
   "id": "bd959e4a",
   "metadata": {},
   "source": [
    "Не слишком информативно, хотя и заметен тренд на увеличение количества заказов, но необходим дальнейший анализ."
   ]
  },
  {
   "cell_type": "markdown",
   "id": "7fdf90cd",
   "metadata": {},
   "source": [
    "## Анализ"
   ]
  },
  {
   "cell_type": "markdown",
   "id": "f797c5ed",
   "metadata": {},
   "source": [
    "- Разделим временной ряд на тренд, сезонность и остаток(шум). \n",
    "- Построим графики временного ряда."
   ]
  },
  {
   "cell_type": "code",
   "execution_count": 14,
   "id": "bd524ffc",
   "metadata": {},
   "outputs": [],
   "source": [
    "decomposed = seasonal_decompose(df)"
   ]
  },
  {
   "cell_type": "code",
   "execution_count": 15,
   "id": "5c91d8a0",
   "metadata": {},
   "outputs": [
    {
     "data": {
      "image/png": "[encoded data removed]",
      "text/plain": [
       "<Figure size 432x288 with 1 Axes>"
      ]
     },
     "metadata": {
      "needs_background": "light"
     },
     "output_type": "display_data"
    }
   ],
   "source": [
    "decomposed.trend.plot()\n",
    "plt.title('Trend')\n",
    "plt.xlabel('Месяц')\n",
    "plt.ylabel('Количество');"
   ]
  },
  {
   "cell_type": "code",
   "execution_count": 16,
   "id": "dd00f0be",
   "metadata": {},
   "outputs": [
    {
     "data": {
      "image/png": "[encoded data removed]",
      "text/plain": [
       "<Figure size 1080x576 with 3 Axes>"
      ]
     },
     "metadata": {
      "needs_background": "light"
     },
     "output_type": "display_data"
    }
   ],
   "source": [
    "plt.figure(figsize=(15, 8))\n",
    "plt.subplot(311)\n",
    "# Чтобы график корректно отобразился, указываем его\n",
    "# оси ax, равными plt.gca() (англ. get current axis,\n",
    "# получить текущие оси)\n",
    "decomposed.trend.plot(ax=plt.gca())\n",
    "plt.title('Trend')\n",
    "plt.subplot(312)\n",
    "decomposed.seasonal.plot(ax=plt.gca())\n",
    "plt.title('Seasonality')\n",
    "plt.subplot(313)\n",
    "decomposed.resid.plot(ax=plt.gca())\n",
    "plt.title('Residuals')\n",
    "plt.tight_layout()"
   ]
  },
  {
   "cell_type": "markdown",
   "id": "d5ca61f4",
   "metadata": {},
   "source": [
    "- Как мы ранее подметили, очевидно, что заметен тренд на увеличение количества заказов с марта по август 2018 года. \n",
    "- На сезонность лучше взглянуть подробнее, например в первой половине июня.\n",
    "- Сезонность - циклично повторяющиеся закономерности во временном ряду. И на графике похоже на то, что каждый месяц эти циклы прослеживаются ежедневно."
   ]
  },
  {
   "cell_type": "code",
   "execution_count": 17,
   "id": "6b1d204a",
   "metadata": {},
   "outputs": [
    {
     "data": {
      "image/png": "[encoded data removed]",
      "text/plain": [
       "<Figure size 1080x288 with 1 Axes>"
      ]
     },
     "metadata": {
      "needs_background": "light"
     },
     "output_type": "display_data"
    }
   ],
   "source": [
    "plt.figure(figsize=(15, 4))\n",
    "decomposed.seasonal['2018-06-01':'2018-06-15'].plot()\n",
    "plt.title('Сезонность с 1 по 15 июня 2018')\n",
    "plt.xlabel('День')\n",
    "plt.ylabel('Количество заказов');"
   ]
  },
  {
   "cell_type": "markdown",
   "id": "2171e647",
   "metadata": {},
   "source": [
    "- Стохастический процесс стационарный - распределение периодических колебаний значений со временем не меняется.\n",
    "- Ежедневно наблюдаем пики и спады заказов в определенное время. Посмотрим в разрезе часов на день."
   ]
  },
  {
   "cell_type": "code",
   "execution_count": 18,
   "id": "407093bc",
   "metadata": {},
   "outputs": [
    {
     "data": {
      "image/png": "[encoded data removed]",
      "text/plain": [
       "<Figure size 432x288 with 1 Axes>"
      ]
     },
     "metadata": {
      "needs_background": "light"
     },
     "output_type": "display_data"
    }
   ],
   "source": [
    "decomposed.seasonal['2018-06-14':'2018-06-15'].plot()\n",
    "plt.title('Сезонность с 14 по 15 июня 2018')\n",
    "plt.xlabel('День')\n",
    "plt.ylabel('Количество заказов');"
   ]
  },
  {
   "cell_type": "markdown",
   "id": "13e2ff84",
   "metadata": {},
   "source": [
    "Похоже на то, что ежедневно люди заказывают такси в рабочее время и после работы. А ближе к полуночи возвращаются домой и на это время приходится большинство заказов. Ночью количество заказов до 6 утра только снижается."
   ]
  },
  {
   "cell_type": "markdown",
   "id": "d48cf106",
   "metadata": {},
   "source": [
    "Посмотрим на скользящее среднее и скользящее стандартное отклонение"
   ]
  },
  {
   "cell_type": "code",
   "execution_count": 19,
   "id": "6a87c2e6",
   "metadata": {},
   "outputs": [
    {
     "data": {
      "text/plain": [
       "<AxesSubplot:xlabel='datetime'>"
      ]
     },
     "execution_count": 19,
     "metadata": {},
     "output_type": "execute_result"
    },
    {
     "data": {
      "image/png": "[encoded data removed]",
      "text/plain": [
       "<Figure size 432x288 with 1 Axes>"
      ]
     },
     "metadata": {
      "needs_background": "light"
     },
     "output_type": "display_data"
    }
   ],
   "source": [
    "#df['mean'] = df['num_orders'].rolling(25).mean()\n",
    "#df['std'] = df['num_orders'].rolling(25).std()\n",
    "df.plot()"
   ]
  },
  {
   "cell_type": "markdown",
   "id": "fc7a5e08",
   "metadata": {},
   "source": [
    "## Обучение"
   ]
  },
  {
   "cell_type": "markdown",
   "id": "cb7c899a",
   "metadata": {},
   "source": [
    "- Напишем функцию для создания обучающих признаков для обучения моделей\n",
    "- Добавим в нее календарные признаки - месяц, день недели и час, month, day, dayofweek\n",
    "- Отстающие значения lag за 24 часа\n",
    "- скользящее среднее rolling_mean за каждые 6 часов "
   ]
  },
  {
   "cell_type": "code",
   "execution_count": 20,
   "id": "496dcb5d",
   "metadata": {
    "scrolled": true
   },
   "outputs": [
    {
     "data": {
      "text/html": [
       "<div>\n",
       "<style scoped>\n",
       "    .dataframe tbody tr th:only-of-type {\n",
       "        vertical-align: middle;\n",
       "    }\n",
       "\n",
       "    .dataframe tbody tr th {\n",
       "        vertical-align: top;\n",
       "    }\n",
       "\n",
       "    .dataframe thead th {\n",
       "        text-align: right;\n",
       "    }\n",
       "</style>\n",
       "<table border=\"1\" class=\"dataframe\">\n",
       "  <thead>\n",
       "    <tr style=\"text-align: right;\">\n",
       "      <th></th>\n",
       "      <th>num_orders</th>\n",
       "      <th>month</th>\n",
       "      <th>dayofweek</th>\n",
       "      <th>hour</th>\n",
       "      <th>lag_1</th>\n",
       "      <th>lag_2</th>\n",
       "      <th>lag_3</th>\n",
       "      <th>lag_4</th>\n",
       "      <th>lag_5</th>\n",
       "      <th>lag_6</th>\n",
       "      <th>...</th>\n",
       "      <th>lag_16</th>\n",
       "      <th>lag_17</th>\n",
       "      <th>lag_18</th>\n",
       "      <th>lag_19</th>\n",
       "      <th>lag_20</th>\n",
       "      <th>lag_21</th>\n",
       "      <th>lag_22</th>\n",
       "      <th>lag_23</th>\n",
       "      <th>lag_24</th>\n",
       "      <th>rolling_mean</th>\n",
       "    </tr>\n",
       "    <tr>\n",
       "      <th>datetime</th>\n",
       "      <th></th>\n",
       "      <th></th>\n",
       "      <th></th>\n",
       "      <th></th>\n",
       "      <th></th>\n",
       "      <th></th>\n",
       "      <th></th>\n",
       "      <th></th>\n",
       "      <th></th>\n",
       "      <th></th>\n",
       "      <th></th>\n",
       "      <th></th>\n",
       "      <th></th>\n",
       "      <th></th>\n",
       "      <th></th>\n",
       "      <th></th>\n",
       "      <th></th>\n",
       "      <th></th>\n",
       "      <th></th>\n",
       "      <th></th>\n",
       "      <th></th>\n",
       "    </tr>\n",
       "  </thead>\n",
       "  <tbody>\n",
       "    <tr>\n",
       "      <th>2018-03-01 00:00:00</th>\n",
       "      <td>124</td>\n",
       "      <td>3</td>\n",
       "      <td>3</td>\n",
       "      <td>0</td>\n",
       "      <td>NaN</td>\n",
       "      <td>NaN</td>\n",
       "      <td>NaN</td>\n",
       "      <td>NaN</td>\n",
       "      <td>NaN</td>\n",
       "      <td>NaN</td>\n",
       "      <td>...</td>\n",
       "      <td>NaN</td>\n",
       "      <td>NaN</td>\n",
       "      <td>NaN</td>\n",
       "      <td>NaN</td>\n",
       "      <td>NaN</td>\n",
       "      <td>NaN</td>\n",
       "      <td>NaN</td>\n",
       "      <td>NaN</td>\n",
       "      <td>NaN</td>\n",
       "      <td>NaN</td>\n",
       "    </tr>\n",
       "    <tr>\n",
       "      <th>2018-03-01 01:00:00</th>\n",
       "      <td>85</td>\n",
       "      <td>3</td>\n",
       "      <td>3</td>\n",
       "      <td>1</td>\n",
       "      <td>124.0</td>\n",
       "      <td>NaN</td>\n",
       "      <td>NaN</td>\n",
       "      <td>NaN</td>\n",
       "      <td>NaN</td>\n",
       "      <td>NaN</td>\n",
       "      <td>...</td>\n",
       "      <td>NaN</td>\n",
       "      <td>NaN</td>\n",
       "      <td>NaN</td>\n",
       "      <td>NaN</td>\n",
       "      <td>NaN</td>\n",
       "      <td>NaN</td>\n",
       "      <td>NaN</td>\n",
       "      <td>NaN</td>\n",
       "      <td>NaN</td>\n",
       "      <td>NaN</td>\n",
       "    </tr>\n",
       "    <tr>\n",
       "      <th>2018-03-01 02:00:00</th>\n",
       "      <td>71</td>\n",
       "      <td>3</td>\n",
       "      <td>3</td>\n",
       "      <td>2</td>\n",
       "      <td>85.0</td>\n",
       "      <td>124.0</td>\n",
       "      <td>NaN</td>\n",
       "      <td>NaN</td>\n",
       "      <td>NaN</td>\n",
       "      <td>NaN</td>\n",
       "      <td>...</td>\n",
       "      <td>NaN</td>\n",
       "      <td>NaN</td>\n",
       "      <td>NaN</td>\n",
       "      <td>NaN</td>\n",
       "      <td>NaN</td>\n",
       "      <td>NaN</td>\n",
       "      <td>NaN</td>\n",
       "      <td>NaN</td>\n",
       "      <td>NaN</td>\n",
       "      <td>NaN</td>\n",
       "    </tr>\n",
       "    <tr>\n",
       "      <th>2018-03-01 03:00:00</th>\n",
       "      <td>66</td>\n",
       "      <td>3</td>\n",
       "      <td>3</td>\n",
       "      <td>3</td>\n",
       "      <td>71.0</td>\n",
       "      <td>85.0</td>\n",
       "      <td>124.0</td>\n",
       "      <td>NaN</td>\n",
       "      <td>NaN</td>\n",
       "      <td>NaN</td>\n",
       "      <td>...</td>\n",
       "      <td>NaN</td>\n",
       "      <td>NaN</td>\n",
       "      <td>NaN</td>\n",
       "      <td>NaN</td>\n",
       "      <td>NaN</td>\n",
       "      <td>NaN</td>\n",
       "      <td>NaN</td>\n",
       "      <td>NaN</td>\n",
       "      <td>NaN</td>\n",
       "      <td>NaN</td>\n",
       "    </tr>\n",
       "    <tr>\n",
       "      <th>2018-03-01 04:00:00</th>\n",
       "      <td>43</td>\n",
       "      <td>3</td>\n",
       "      <td>3</td>\n",
       "      <td>4</td>\n",
       "      <td>66.0</td>\n",
       "      <td>71.0</td>\n",
       "      <td>85.0</td>\n",
       "      <td>124.0</td>\n",
       "      <td>NaN</td>\n",
       "      <td>NaN</td>\n",
       "      <td>...</td>\n",
       "      <td>NaN</td>\n",
       "      <td>NaN</td>\n",
       "      <td>NaN</td>\n",
       "      <td>NaN</td>\n",
       "      <td>NaN</td>\n",
       "      <td>NaN</td>\n",
       "      <td>NaN</td>\n",
       "      <td>NaN</td>\n",
       "      <td>NaN</td>\n",
       "      <td>86.5</td>\n",
       "    </tr>\n",
       "  </tbody>\n",
       "</table>\n",
       "<p>5 rows × 29 columns</p>\n",
       "</div>"
      ],
      "text/plain": [
       "                     num_orders  month  dayofweek  hour  lag_1  lag_2  lag_3  \\\n",
       "datetime                                                                       \n",
       "2018-03-01 00:00:00         124      3          3     0    NaN    NaN    NaN   \n",
       "2018-03-01 01:00:00          85      3          3     1  124.0    NaN    NaN   \n",
       "2018-03-01 02:00:00          71      3          3     2   85.0  124.0    NaN   \n",
       "2018-03-01 03:00:00          66      3          3     3   71.0   85.0  124.0   \n",
       "2018-03-01 04:00:00          43      3          3     4   66.0   71.0   85.0   \n",
       "\n",
       "                     lag_4  lag_5  lag_6  ...  lag_16  lag_17  lag_18  lag_19  \\\n",
       "datetime                                  ...                                   \n",
       "2018-03-01 00:00:00    NaN    NaN    NaN  ...     NaN     NaN     NaN     NaN   \n",
       "2018-03-01 01:00:00    NaN    NaN    NaN  ...     NaN     NaN     NaN     NaN   \n",
       "2018-03-01 02:00:00    NaN    NaN    NaN  ...     NaN     NaN     NaN     NaN   \n",
       "2018-03-01 03:00:00    NaN    NaN    NaN  ...     NaN     NaN     NaN     NaN   \n",
       "2018-03-01 04:00:00  124.0    NaN    NaN  ...     NaN     NaN     NaN     NaN   \n",
       "\n",
       "                     lag_20  lag_21  lag_22  lag_23  lag_24  rolling_mean  \n",
       "datetime                                                                   \n",
       "2018-03-01 00:00:00     NaN     NaN     NaN     NaN     NaN           NaN  \n",
       "2018-03-01 01:00:00     NaN     NaN     NaN     NaN     NaN           NaN  \n",
       "2018-03-01 02:00:00     NaN     NaN     NaN     NaN     NaN           NaN  \n",
       "2018-03-01 03:00:00     NaN     NaN     NaN     NaN     NaN           NaN  \n",
       "2018-03-01 04:00:00     NaN     NaN     NaN     NaN     NaN          86.5  \n",
       "\n",
       "[5 rows x 29 columns]"
      ]
     },
     "execution_count": 20,
     "metadata": {},
     "output_type": "execute_result"
    }
   ],
   "source": [
    "def make_features(data, max_lag, rolling_mean_size):\n",
    "    data_copy = data.copy()\n",
    "    data_copy['month'] = data_copy.index.month   \n",
    "    data_copy['dayofweek'] = data_copy.index.dayofweek\n",
    "    data_copy['hour'] = data_copy.index.hour\n",
    "    \n",
    "    for lag in range(1, max_lag + 1):\n",
    "        data_copy['lag_{}'.format(lag)] = data_copy['num_orders'].shift(lag)\n",
    "\n",
    "    data_copy['rolling_mean'] = data_copy['num_orders'].shift().rolling(rolling_mean_size).mean()\n",
    "    return data_copy\n",
    "\n",
    "df_lag = make_features(df, 24, 4)\n",
    "df_lag.head()"
   ]
  },
  {
   "cell_type": "markdown",
   "id": "f653a1cf",
   "metadata": {},
   "source": [
    "- Разделим данные о количестве заказов такси на обучающую и тестовую выборки в соотношении 9:1. Возьмем данные за доступное время.\n",
    "- Напечатаем на экране минимальные и максимальные значения индексов выборок, чтобы убедиться в корректности деления."
   ]
  },
  {
   "cell_type": "code",
   "execution_count": 21,
   "id": "d0025357",
   "metadata": {
    "scrolled": true
   },
   "outputs": [
    {
     "name": "stdout",
     "output_type": "stream",
     "text": [
      "2018-03-01 00:00:00 2018-08-13 13:00:00\n",
      "2018-08-13 14:00:00 2018-08-31 23:00:00\n"
     ]
    }
   ],
   "source": [
    "train, test = train_test_split(df_lag, shuffle=False, test_size=0.1)\n",
    "\n",
    "print(train.index.min(), train.index.max())\n",
    "print(test.index.min(), test.index.max())"
   ]
  },
  {
   "cell_type": "markdown",
   "id": "8e6c2508",
   "metadata": {},
   "source": [
    "- Данные разделены корректно - 5 месяцев на 9 к 1."
   ]
  },
  {
   "cell_type": "code",
   "execution_count": 22,
   "id": "e47cbc2c",
   "metadata": {},
   "outputs": [
    {
     "data": {
      "text/html": [
       "<div>\n",
       "<style scoped>\n",
       "    .dataframe tbody tr th:only-of-type {\n",
       "        vertical-align: middle;\n",
       "    }\n",
       "\n",
       "    .dataframe tbody tr th {\n",
       "        vertical-align: top;\n",
       "    }\n",
       "\n",
       "    .dataframe thead th {\n",
       "        text-align: right;\n",
       "    }\n",
       "</style>\n",
       "<table border=\"1\" class=\"dataframe\">\n",
       "  <thead>\n",
       "    <tr style=\"text-align: right;\">\n",
       "      <th></th>\n",
       "      <th>num_orders</th>\n",
       "      <th>month</th>\n",
       "      <th>dayofweek</th>\n",
       "      <th>hour</th>\n",
       "      <th>lag_1</th>\n",
       "      <th>lag_2</th>\n",
       "      <th>lag_3</th>\n",
       "      <th>lag_4</th>\n",
       "      <th>lag_5</th>\n",
       "      <th>lag_6</th>\n",
       "      <th>...</th>\n",
       "      <th>lag_16</th>\n",
       "      <th>lag_17</th>\n",
       "      <th>lag_18</th>\n",
       "      <th>lag_19</th>\n",
       "      <th>lag_20</th>\n",
       "      <th>lag_21</th>\n",
       "      <th>lag_22</th>\n",
       "      <th>lag_23</th>\n",
       "      <th>lag_24</th>\n",
       "      <th>rolling_mean</th>\n",
       "    </tr>\n",
       "    <tr>\n",
       "      <th>datetime</th>\n",
       "      <th></th>\n",
       "      <th></th>\n",
       "      <th></th>\n",
       "      <th></th>\n",
       "      <th></th>\n",
       "      <th></th>\n",
       "      <th></th>\n",
       "      <th></th>\n",
       "      <th></th>\n",
       "      <th></th>\n",
       "      <th></th>\n",
       "      <th></th>\n",
       "      <th></th>\n",
       "      <th></th>\n",
       "      <th></th>\n",
       "      <th></th>\n",
       "      <th></th>\n",
       "      <th></th>\n",
       "      <th></th>\n",
       "      <th></th>\n",
       "      <th></th>\n",
       "    </tr>\n",
       "  </thead>\n",
       "  <tbody>\n",
       "    <tr>\n",
       "      <th>2018-03-01 00:00:00</th>\n",
       "      <td>124</td>\n",
       "      <td>3</td>\n",
       "      <td>3</td>\n",
       "      <td>0</td>\n",
       "      <td>NaN</td>\n",
       "      <td>NaN</td>\n",
       "      <td>NaN</td>\n",
       "      <td>NaN</td>\n",
       "      <td>NaN</td>\n",
       "      <td>NaN</td>\n",
       "      <td>...</td>\n",
       "      <td>NaN</td>\n",
       "      <td>NaN</td>\n",
       "      <td>NaN</td>\n",
       "      <td>NaN</td>\n",
       "      <td>NaN</td>\n",
       "      <td>NaN</td>\n",
       "      <td>NaN</td>\n",
       "      <td>NaN</td>\n",
       "      <td>NaN</td>\n",
       "      <td>NaN</td>\n",
       "    </tr>\n",
       "    <tr>\n",
       "      <th>2018-03-01 01:00:00</th>\n",
       "      <td>85</td>\n",
       "      <td>3</td>\n",
       "      <td>3</td>\n",
       "      <td>1</td>\n",
       "      <td>124.0</td>\n",
       "      <td>NaN</td>\n",
       "      <td>NaN</td>\n",
       "      <td>NaN</td>\n",
       "      <td>NaN</td>\n",
       "      <td>NaN</td>\n",
       "      <td>...</td>\n",
       "      <td>NaN</td>\n",
       "      <td>NaN</td>\n",
       "      <td>NaN</td>\n",
       "      <td>NaN</td>\n",
       "      <td>NaN</td>\n",
       "      <td>NaN</td>\n",
       "      <td>NaN</td>\n",
       "      <td>NaN</td>\n",
       "      <td>NaN</td>\n",
       "      <td>NaN</td>\n",
       "    </tr>\n",
       "    <tr>\n",
       "      <th>2018-03-01 02:00:00</th>\n",
       "      <td>71</td>\n",
       "      <td>3</td>\n",
       "      <td>3</td>\n",
       "      <td>2</td>\n",
       "      <td>85.0</td>\n",
       "      <td>124.0</td>\n",
       "      <td>NaN</td>\n",
       "      <td>NaN</td>\n",
       "      <td>NaN</td>\n",
       "      <td>NaN</td>\n",
       "      <td>...</td>\n",
       "      <td>NaN</td>\n",
       "      <td>NaN</td>\n",
       "      <td>NaN</td>\n",
       "      <td>NaN</td>\n",
       "      <td>NaN</td>\n",
       "      <td>NaN</td>\n",
       "      <td>NaN</td>\n",
       "      <td>NaN</td>\n",
       "      <td>NaN</td>\n",
       "      <td>NaN</td>\n",
       "    </tr>\n",
       "    <tr>\n",
       "      <th>2018-03-01 03:00:00</th>\n",
       "      <td>66</td>\n",
       "      <td>3</td>\n",
       "      <td>3</td>\n",
       "      <td>3</td>\n",
       "      <td>71.0</td>\n",
       "      <td>85.0</td>\n",
       "      <td>124.0</td>\n",
       "      <td>NaN</td>\n",
       "      <td>NaN</td>\n",
       "      <td>NaN</td>\n",
       "      <td>...</td>\n",
       "      <td>NaN</td>\n",
       "      <td>NaN</td>\n",
       "      <td>NaN</td>\n",
       "      <td>NaN</td>\n",
       "      <td>NaN</td>\n",
       "      <td>NaN</td>\n",
       "      <td>NaN</td>\n",
       "      <td>NaN</td>\n",
       "      <td>NaN</td>\n",
       "      <td>NaN</td>\n",
       "    </tr>\n",
       "    <tr>\n",
       "      <th>2018-03-01 04:00:00</th>\n",
       "      <td>43</td>\n",
       "      <td>3</td>\n",
       "      <td>3</td>\n",
       "      <td>4</td>\n",
       "      <td>66.0</td>\n",
       "      <td>71.0</td>\n",
       "      <td>85.0</td>\n",
       "      <td>124.0</td>\n",
       "      <td>NaN</td>\n",
       "      <td>NaN</td>\n",
       "      <td>...</td>\n",
       "      <td>NaN</td>\n",
       "      <td>NaN</td>\n",
       "      <td>NaN</td>\n",
       "      <td>NaN</td>\n",
       "      <td>NaN</td>\n",
       "      <td>NaN</td>\n",
       "      <td>NaN</td>\n",
       "      <td>NaN</td>\n",
       "      <td>NaN</td>\n",
       "      <td>86.5</td>\n",
       "    </tr>\n",
       "  </tbody>\n",
       "</table>\n",
       "<p>5 rows × 29 columns</p>\n",
       "</div>"
      ],
      "text/plain": [
       "                     num_orders  month  dayofweek  hour  lag_1  lag_2  lag_3  \\\n",
       "datetime                                                                       \n",
       "2018-03-01 00:00:00         124      3          3     0    NaN    NaN    NaN   \n",
       "2018-03-01 01:00:00          85      3          3     1  124.0    NaN    NaN   \n",
       "2018-03-01 02:00:00          71      3          3     2   85.0  124.0    NaN   \n",
       "2018-03-01 03:00:00          66      3          3     3   71.0   85.0  124.0   \n",
       "2018-03-01 04:00:00          43      3          3     4   66.0   71.0   85.0   \n",
       "\n",
       "                     lag_4  lag_5  lag_6  ...  lag_16  lag_17  lag_18  lag_19  \\\n",
       "datetime                                  ...                                   \n",
       "2018-03-01 00:00:00    NaN    NaN    NaN  ...     NaN     NaN     NaN     NaN   \n",
       "2018-03-01 01:00:00    NaN    NaN    NaN  ...     NaN     NaN     NaN     NaN   \n",
       "2018-03-01 02:00:00    NaN    NaN    NaN  ...     NaN     NaN     NaN     NaN   \n",
       "2018-03-01 03:00:00    NaN    NaN    NaN  ...     NaN     NaN     NaN     NaN   \n",
       "2018-03-01 04:00:00  124.0    NaN    NaN  ...     NaN     NaN     NaN     NaN   \n",
       "\n",
       "                     lag_20  lag_21  lag_22  lag_23  lag_24  rolling_mean  \n",
       "datetime                                                                   \n",
       "2018-03-01 00:00:00     NaN     NaN     NaN     NaN     NaN           NaN  \n",
       "2018-03-01 01:00:00     NaN     NaN     NaN     NaN     NaN           NaN  \n",
       "2018-03-01 02:00:00     NaN     NaN     NaN     NaN     NaN           NaN  \n",
       "2018-03-01 03:00:00     NaN     NaN     NaN     NaN     NaN           NaN  \n",
       "2018-03-01 04:00:00     NaN     NaN     NaN     NaN     NaN          86.5  \n",
       "\n",
       "[5 rows x 29 columns]"
      ]
     },
     "execution_count": 22,
     "metadata": {},
     "output_type": "execute_result"
    }
   ],
   "source": [
    "train.head()"
   ]
  },
  {
   "cell_type": "code",
   "execution_count": 23,
   "id": "c488b27f",
   "metadata": {
    "scrolled": false
   },
   "outputs": [
    {
     "name": "stdout",
     "output_type": "stream",
     "text": [
      "Размер обучающей выборки:  (3974, 29)\n",
      "Размер тестовой выборки:  (442, 29)\n"
     ]
    }
   ],
   "source": [
    "print('Размер обучающей выборки: ', train.shape)\n",
    "print('Размер тестовой выборки: ', test.shape)"
   ]
  },
  {
   "cell_type": "markdown",
   "id": "5dccbaaf",
   "metadata": {},
   "source": [
    "Удаляем строки с пропусками"
   ]
  },
  {
   "cell_type": "code",
   "execution_count": 24,
   "id": "5680ee7c",
   "metadata": {},
   "outputs": [],
   "source": [
    "train = train.dropna()"
   ]
  },
  {
   "cell_type": "code",
   "execution_count": 25,
   "id": "8d2400a0",
   "metadata": {
    "scrolled": true
   },
   "outputs": [
    {
     "name": "stdout",
     "output_type": "stream",
     "text": [
      "Размер обучающей выборки:  (3950, 29)\n"
     ]
    }
   ],
   "source": [
    "print('Размер обучающей выборки: ', train.shape)"
   ]
  },
  {
   "cell_type": "markdown",
   "id": "5bbe8830",
   "metadata": {},
   "source": [
    "В выборке выделим признаки и целевой признак (количество заказов)."
   ]
  },
  {
   "cell_type": "code",
   "execution_count": 26,
   "id": "bc176f86",
   "metadata": {},
   "outputs": [],
   "source": [
    "features_train = train.drop('num_orders', axis=1)\n",
    "target_train = train['num_orders']\n",
    "\n",
    "features_test = test.drop('num_orders', axis=1)\n",
    "target_test = test['num_orders']"
   ]
  },
  {
   "cell_type": "code",
   "execution_count": 27,
   "id": "9ba67125",
   "metadata": {},
   "outputs": [
    {
     "data": {
      "text/html": [
       "<div>\n",
       "<style scoped>\n",
       "    .dataframe tbody tr th:only-of-type {\n",
       "        vertical-align: middle;\n",
       "    }\n",
       "\n",
       "    .dataframe tbody tr th {\n",
       "        vertical-align: top;\n",
       "    }\n",
       "\n",
       "    .dataframe thead th {\n",
       "        text-align: right;\n",
       "    }\n",
       "</style>\n",
       "<table border=\"1\" class=\"dataframe\">\n",
       "  <thead>\n",
       "    <tr style=\"text-align: right;\">\n",
       "      <th></th>\n",
       "      <th>month</th>\n",
       "      <th>dayofweek</th>\n",
       "      <th>hour</th>\n",
       "      <th>lag_1</th>\n",
       "      <th>lag_2</th>\n",
       "      <th>lag_3</th>\n",
       "      <th>lag_4</th>\n",
       "      <th>lag_5</th>\n",
       "      <th>lag_6</th>\n",
       "      <th>lag_7</th>\n",
       "      <th>...</th>\n",
       "      <th>lag_16</th>\n",
       "      <th>lag_17</th>\n",
       "      <th>lag_18</th>\n",
       "      <th>lag_19</th>\n",
       "      <th>lag_20</th>\n",
       "      <th>lag_21</th>\n",
       "      <th>lag_22</th>\n",
       "      <th>lag_23</th>\n",
       "      <th>lag_24</th>\n",
       "      <th>rolling_mean</th>\n",
       "    </tr>\n",
       "    <tr>\n",
       "      <th>datetime</th>\n",
       "      <th></th>\n",
       "      <th></th>\n",
       "      <th></th>\n",
       "      <th></th>\n",
       "      <th></th>\n",
       "      <th></th>\n",
       "      <th></th>\n",
       "      <th></th>\n",
       "      <th></th>\n",
       "      <th></th>\n",
       "      <th></th>\n",
       "      <th></th>\n",
       "      <th></th>\n",
       "      <th></th>\n",
       "      <th></th>\n",
       "      <th></th>\n",
       "      <th></th>\n",
       "      <th></th>\n",
       "      <th></th>\n",
       "      <th></th>\n",
       "      <th></th>\n",
       "    </tr>\n",
       "  </thead>\n",
       "  <tbody>\n",
       "    <tr>\n",
       "      <th>2018-03-02 00:00:00</th>\n",
       "      <td>3</td>\n",
       "      <td>4</td>\n",
       "      <td>0</td>\n",
       "      <td>58.0</td>\n",
       "      <td>113.0</td>\n",
       "      <td>66.0</td>\n",
       "      <td>61.0</td>\n",
       "      <td>45.0</td>\n",
       "      <td>73.0</td>\n",
       "      <td>44.0</td>\n",
       "      <td>...</td>\n",
       "      <td>34.0</td>\n",
       "      <td>15.0</td>\n",
       "      <td>12.0</td>\n",
       "      <td>6.0</td>\n",
       "      <td>43.0</td>\n",
       "      <td>66.0</td>\n",
       "      <td>71.0</td>\n",
       "      <td>85.0</td>\n",
       "      <td>124.0</td>\n",
       "      <td>74.50</td>\n",
       "    </tr>\n",
       "    <tr>\n",
       "      <th>2018-03-02 01:00:00</th>\n",
       "      <td>3</td>\n",
       "      <td>4</td>\n",
       "      <td>1</td>\n",
       "      <td>90.0</td>\n",
       "      <td>58.0</td>\n",
       "      <td>113.0</td>\n",
       "      <td>66.0</td>\n",
       "      <td>61.0</td>\n",
       "      <td>45.0</td>\n",
       "      <td>73.0</td>\n",
       "      <td>...</td>\n",
       "      <td>69.0</td>\n",
       "      <td>34.0</td>\n",
       "      <td>15.0</td>\n",
       "      <td>12.0</td>\n",
       "      <td>6.0</td>\n",
       "      <td>43.0</td>\n",
       "      <td>66.0</td>\n",
       "      <td>71.0</td>\n",
       "      <td>85.0</td>\n",
       "      <td>81.75</td>\n",
       "    </tr>\n",
       "    <tr>\n",
       "      <th>2018-03-02 02:00:00</th>\n",
       "      <td>3</td>\n",
       "      <td>4</td>\n",
       "      <td>2</td>\n",
       "      <td>120.0</td>\n",
       "      <td>90.0</td>\n",
       "      <td>58.0</td>\n",
       "      <td>113.0</td>\n",
       "      <td>66.0</td>\n",
       "      <td>61.0</td>\n",
       "      <td>45.0</td>\n",
       "      <td>...</td>\n",
       "      <td>64.0</td>\n",
       "      <td>69.0</td>\n",
       "      <td>34.0</td>\n",
       "      <td>15.0</td>\n",
       "      <td>12.0</td>\n",
       "      <td>6.0</td>\n",
       "      <td>43.0</td>\n",
       "      <td>66.0</td>\n",
       "      <td>71.0</td>\n",
       "      <td>95.25</td>\n",
       "    </tr>\n",
       "    <tr>\n",
       "      <th>2018-03-02 03:00:00</th>\n",
       "      <td>3</td>\n",
       "      <td>4</td>\n",
       "      <td>3</td>\n",
       "      <td>75.0</td>\n",
       "      <td>120.0</td>\n",
       "      <td>90.0</td>\n",
       "      <td>58.0</td>\n",
       "      <td>113.0</td>\n",
       "      <td>66.0</td>\n",
       "      <td>61.0</td>\n",
       "      <td>...</td>\n",
       "      <td>96.0</td>\n",
       "      <td>64.0</td>\n",
       "      <td>69.0</td>\n",
       "      <td>34.0</td>\n",
       "      <td>15.0</td>\n",
       "      <td>12.0</td>\n",
       "      <td>6.0</td>\n",
       "      <td>43.0</td>\n",
       "      <td>66.0</td>\n",
       "      <td>85.75</td>\n",
       "    </tr>\n",
       "    <tr>\n",
       "      <th>2018-03-02 04:00:00</th>\n",
       "      <td>3</td>\n",
       "      <td>4</td>\n",
       "      <td>4</td>\n",
       "      <td>64.0</td>\n",
       "      <td>75.0</td>\n",
       "      <td>120.0</td>\n",
       "      <td>90.0</td>\n",
       "      <td>58.0</td>\n",
       "      <td>113.0</td>\n",
       "      <td>66.0</td>\n",
       "      <td>...</td>\n",
       "      <td>30.0</td>\n",
       "      <td>96.0</td>\n",
       "      <td>64.0</td>\n",
       "      <td>69.0</td>\n",
       "      <td>34.0</td>\n",
       "      <td>15.0</td>\n",
       "      <td>12.0</td>\n",
       "      <td>6.0</td>\n",
       "      <td>43.0</td>\n",
       "      <td>87.25</td>\n",
       "    </tr>\n",
       "    <tr>\n",
       "      <th>...</th>\n",
       "      <td>...</td>\n",
       "      <td>...</td>\n",
       "      <td>...</td>\n",
       "      <td>...</td>\n",
       "      <td>...</td>\n",
       "      <td>...</td>\n",
       "      <td>...</td>\n",
       "      <td>...</td>\n",
       "      <td>...</td>\n",
       "      <td>...</td>\n",
       "      <td>...</td>\n",
       "      <td>...</td>\n",
       "      <td>...</td>\n",
       "      <td>...</td>\n",
       "      <td>...</td>\n",
       "      <td>...</td>\n",
       "      <td>...</td>\n",
       "      <td>...</td>\n",
       "      <td>...</td>\n",
       "      <td>...</td>\n",
       "      <td>...</td>\n",
       "    </tr>\n",
       "    <tr>\n",
       "      <th>2018-08-13 09:00:00</th>\n",
       "      <td>8</td>\n",
       "      <td>0</td>\n",
       "      <td>9</td>\n",
       "      <td>91.0</td>\n",
       "      <td>39.0</td>\n",
       "      <td>66.0</td>\n",
       "      <td>83.0</td>\n",
       "      <td>143.0</td>\n",
       "      <td>168.0</td>\n",
       "      <td>437.0</td>\n",
       "      <td>...</td>\n",
       "      <td>115.0</td>\n",
       "      <td>153.0</td>\n",
       "      <td>149.0</td>\n",
       "      <td>104.0</td>\n",
       "      <td>120.0</td>\n",
       "      <td>123.0</td>\n",
       "      <td>81.0</td>\n",
       "      <td>108.0</td>\n",
       "      <td>108.0</td>\n",
       "      <td>69.75</td>\n",
       "    </tr>\n",
       "    <tr>\n",
       "      <th>2018-08-13 10:00:00</th>\n",
       "      <td>8</td>\n",
       "      <td>0</td>\n",
       "      <td>10</td>\n",
       "      <td>137.0</td>\n",
       "      <td>91.0</td>\n",
       "      <td>39.0</td>\n",
       "      <td>66.0</td>\n",
       "      <td>83.0</td>\n",
       "      <td>143.0</td>\n",
       "      <td>168.0</td>\n",
       "      <td>...</td>\n",
       "      <td>78.0</td>\n",
       "      <td>115.0</td>\n",
       "      <td>153.0</td>\n",
       "      <td>149.0</td>\n",
       "      <td>104.0</td>\n",
       "      <td>120.0</td>\n",
       "      <td>123.0</td>\n",
       "      <td>81.0</td>\n",
       "      <td>108.0</td>\n",
       "      <td>83.25</td>\n",
       "    </tr>\n",
       "    <tr>\n",
       "      <th>2018-08-13 11:00:00</th>\n",
       "      <td>8</td>\n",
       "      <td>0</td>\n",
       "      <td>11</td>\n",
       "      <td>156.0</td>\n",
       "      <td>137.0</td>\n",
       "      <td>91.0</td>\n",
       "      <td>39.0</td>\n",
       "      <td>66.0</td>\n",
       "      <td>83.0</td>\n",
       "      <td>143.0</td>\n",
       "      <td>...</td>\n",
       "      <td>82.0</td>\n",
       "      <td>78.0</td>\n",
       "      <td>115.0</td>\n",
       "      <td>153.0</td>\n",
       "      <td>149.0</td>\n",
       "      <td>104.0</td>\n",
       "      <td>120.0</td>\n",
       "      <td>123.0</td>\n",
       "      <td>81.0</td>\n",
       "      <td>105.75</td>\n",
       "    </tr>\n",
       "    <tr>\n",
       "      <th>2018-08-13 12:00:00</th>\n",
       "      <td>8</td>\n",
       "      <td>0</td>\n",
       "      <td>12</td>\n",
       "      <td>144.0</td>\n",
       "      <td>156.0</td>\n",
       "      <td>137.0</td>\n",
       "      <td>91.0</td>\n",
       "      <td>39.0</td>\n",
       "      <td>66.0</td>\n",
       "      <td>83.0</td>\n",
       "      <td>...</td>\n",
       "      <td>98.0</td>\n",
       "      <td>82.0</td>\n",
       "      <td>78.0</td>\n",
       "      <td>115.0</td>\n",
       "      <td>153.0</td>\n",
       "      <td>149.0</td>\n",
       "      <td>104.0</td>\n",
       "      <td>120.0</td>\n",
       "      <td>123.0</td>\n",
       "      <td>132.00</td>\n",
       "    </tr>\n",
       "    <tr>\n",
       "      <th>2018-08-13 13:00:00</th>\n",
       "      <td>8</td>\n",
       "      <td>0</td>\n",
       "      <td>13</td>\n",
       "      <td>92.0</td>\n",
       "      <td>144.0</td>\n",
       "      <td>156.0</td>\n",
       "      <td>137.0</td>\n",
       "      <td>91.0</td>\n",
       "      <td>39.0</td>\n",
       "      <td>66.0</td>\n",
       "      <td>...</td>\n",
       "      <td>135.0</td>\n",
       "      <td>98.0</td>\n",
       "      <td>82.0</td>\n",
       "      <td>78.0</td>\n",
       "      <td>115.0</td>\n",
       "      <td>153.0</td>\n",
       "      <td>149.0</td>\n",
       "      <td>104.0</td>\n",
       "      <td>120.0</td>\n",
       "      <td>132.25</td>\n",
       "    </tr>\n",
       "  </tbody>\n",
       "</table>\n",
       "<p>3950 rows × 28 columns</p>\n",
       "</div>"
      ],
      "text/plain": [
       "                     month  dayofweek  hour  lag_1  lag_2  lag_3  lag_4  \\\n",
       "datetime                                                                  \n",
       "2018-03-02 00:00:00      3          4     0   58.0  113.0   66.0   61.0   \n",
       "2018-03-02 01:00:00      3          4     1   90.0   58.0  113.0   66.0   \n",
       "2018-03-02 02:00:00      3          4     2  120.0   90.0   58.0  113.0   \n",
       "2018-03-02 03:00:00      3          4     3   75.0  120.0   90.0   58.0   \n",
       "2018-03-02 04:00:00      3          4     4   64.0   75.0  120.0   90.0   \n",
       "...                    ...        ...   ...    ...    ...    ...    ...   \n",
       "2018-08-13 09:00:00      8          0     9   91.0   39.0   66.0   83.0   \n",
       "2018-08-13 10:00:00      8          0    10  137.0   91.0   39.0   66.0   \n",
       "2018-08-13 11:00:00      8          0    11  156.0  137.0   91.0   39.0   \n",
       "2018-08-13 12:00:00      8          0    12  144.0  156.0  137.0   91.0   \n",
       "2018-08-13 13:00:00      8          0    13   92.0  144.0  156.0  137.0   \n",
       "\n",
       "                     lag_5  lag_6  lag_7  ...  lag_16  lag_17  lag_18  lag_19  \\\n",
       "datetime                                  ...                                   \n",
       "2018-03-02 00:00:00   45.0   73.0   44.0  ...    34.0    15.0    12.0     6.0   \n",
       "2018-03-02 01:00:00   61.0   45.0   73.0  ...    69.0    34.0    15.0    12.0   \n",
       "2018-03-02 02:00:00   66.0   61.0   45.0  ...    64.0    69.0    34.0    15.0   \n",
       "2018-03-02 03:00:00  113.0   66.0   61.0  ...    96.0    64.0    69.0    34.0   \n",
       "2018-03-02 04:00:00   58.0  113.0   66.0  ...    30.0    96.0    64.0    69.0   \n",
       "...                    ...    ...    ...  ...     ...     ...     ...     ...   \n",
       "2018-08-13 09:00:00  143.0  168.0  437.0  ...   115.0   153.0   149.0   104.0   \n",
       "2018-08-13 10:00:00   83.0  143.0  168.0  ...    78.0   115.0   153.0   149.0   \n",
       "2018-08-13 11:00:00   66.0   83.0  143.0  ...    82.0    78.0   115.0   153.0   \n",
       "2018-08-13 12:00:00   39.0   66.0   83.0  ...    98.0    82.0    78.0   115.0   \n",
       "2018-08-13 13:00:00   91.0   39.0   66.0  ...   135.0    98.0    82.0    78.0   \n",
       "\n",
       "                     lag_20  lag_21  lag_22  lag_23  lag_24  rolling_mean  \n",
       "datetime                                                                   \n",
       "2018-03-02 00:00:00    43.0    66.0    71.0    85.0   124.0         74.50  \n",
       "2018-03-02 01:00:00     6.0    43.0    66.0    71.0    85.0         81.75  \n",
       "2018-03-02 02:00:00    12.0     6.0    43.0    66.0    71.0         95.25  \n",
       "2018-03-02 03:00:00    15.0    12.0     6.0    43.0    66.0         85.75  \n",
       "2018-03-02 04:00:00    34.0    15.0    12.0     6.0    43.0         87.25  \n",
       "...                     ...     ...     ...     ...     ...           ...  \n",
       "2018-08-13 09:00:00   120.0   123.0    81.0   108.0   108.0         69.75  \n",
       "2018-08-13 10:00:00   104.0   120.0   123.0    81.0   108.0         83.25  \n",
       "2018-08-13 11:00:00   149.0   104.0   120.0   123.0    81.0        105.75  \n",
       "2018-08-13 12:00:00   153.0   149.0   104.0   120.0   123.0        132.00  \n",
       "2018-08-13 13:00:00   115.0   153.0   149.0   104.0   120.0        132.25  \n",
       "\n",
       "[3950 rows x 28 columns]"
      ]
     },
     "execution_count": 27,
     "metadata": {},
     "output_type": "execute_result"
    }
   ],
   "source": [
    "features_train"
   ]
  },
  {
   "cell_type": "markdown",
   "id": "1141a385",
   "metadata": {},
   "source": [
    "### LinearRegression"
   ]
  },
  {
   "cell_type": "code",
   "execution_count": 28,
   "id": "0002375a",
   "metadata": {},
   "outputs": [],
   "source": [
    "model_lr = LinearRegression()"
   ]
  },
  {
   "cell_type": "code",
   "execution_count": 29,
   "id": "984b624b",
   "metadata": {},
   "outputs": [
    {
     "name": "stdout",
     "output_type": "stream",
     "text": [
      "RMSE на обучающей выборке, число заказов: 25.743895530209972\n",
      "RMSE на тестовой выборке, число заказов:  45.67925689462977\n"
     ]
    }
   ],
   "source": [
    "model_lr.fit(features_train, target_train)\n",
    "preds_train = model_lr.predict(features_train)\n",
    "print(\"RMSE на обучающей выборке, число заказов:\", mean_squared_error(target_train, preds_train) **.5)\n",
    "\n",
    "preds_test = model_lr.predict(features_test)\n",
    "print(\"RMSE на тестовой выборке, число заказов: \", mean_squared_error(target_test, preds_test) ** .5)"
   ]
  },
  {
   "cell_type": "markdown",
   "id": "1b5bdd48",
   "metadata": {},
   "source": [
    "Попробуем улучшить результат"
   ]
  },
  {
   "cell_type": "code",
   "execution_count": 30,
   "id": "8573a811",
   "metadata": {},
   "outputs": [],
   "source": [
    "cv_results = cross_validate(model_lr, features_train, target_train, scoring='neg_root_mean_squared_error', cv=5)"
   ]
  },
  {
   "cell_type": "code",
   "execution_count": 31,
   "id": "4258efef",
   "metadata": {},
   "outputs": [
    {
     "data": {
      "text/plain": [
       "{'fit_time': array([0.01004601, 0.01006269, 0.00202227, 0.        , 0.        ]),\n",
       " 'score_time': array([0.01008034, 0.00800633, 0.00802898, 0.00803828, 0.00802541]),\n",
       " 'test_score': array([-21.83933145, -22.8299396 , -25.21907001, -25.81310786,\n",
       "        -33.23192912])}"
      ]
     },
     "execution_count": 31,
     "metadata": {},
     "output_type": "execute_result"
    }
   ],
   "source": [
    "cv_results"
   ]
  },
  {
   "cell_type": "markdown",
   "id": "eebf0ce9",
   "metadata": {},
   "source": [
    "Во избежание утечки целевого признака воспользуемся TimeSeriesSplit"
   ]
  },
  {
   "cell_type": "code",
   "execution_count": 32,
   "id": "311c6980",
   "metadata": {},
   "outputs": [],
   "source": [
    "cv_split = TimeSeriesSplit(n_splits=6)"
   ]
  },
  {
   "cell_type": "code",
   "execution_count": 33,
   "id": "8e34bb16",
   "metadata": {},
   "outputs": [
    {
     "name": "stdout",
     "output_type": "stream",
     "text": [
      "Fitting 6 folds for each of 4 candidates, totalling 24 fits\n"
     ]
    },
    {
     "data": {
      "text/plain": [
       "GridSearchCV(cv=TimeSeriesSplit(gap=0, max_train_size=None, n_splits=6, test_size=None),\n",
       "             estimator=LinearRegression(), n_jobs=-1,\n",
       "             param_grid={'fit_intercept': [True, False],\n",
       "                         'normalize': [True, False]},\n",
       "             scoring='neg_root_mean_squared_error', verbose=3)"
      ]
     },
     "execution_count": 33,
     "metadata": {},
     "output_type": "execute_result"
    }
   ],
   "source": [
    "params_lr = {\"normalize\": [True, False],\"fit_intercept\" : [True, False]}                        \n",
    "\n",
    "\n",
    "grid_search = GridSearchCV(model_lr, n_jobs = -1, param_grid = params_lr, cv = cv_split,\n",
    "                           scoring = \"neg_root_mean_squared_error\", verbose = 3)\n",
    "grid_search.fit(features_train,target_train)"
   ]
  },
  {
   "cell_type": "code",
   "execution_count": 34,
   "id": "94147f7c",
   "metadata": {
    "scrolled": true
   },
   "outputs": [
    {
     "data": {
      "text/plain": [
       "{'mean_fit_time': array([0.01139744, 0.01140316, 0.00805092, 0.009384  ]),\n",
       " 'std_fit_time': array([0.00551927, 0.00321285, 0.00367741, 0.00527768]),\n",
       " 'mean_score_time': array([0.00369004, 0.00269381, 0.00536819, 0.00269039]),\n",
       " 'std_score_time': array([0.00392045, 0.00342806, 0.00474139, 0.00341761]),\n",
       " 'param_fit_intercept': masked_array(data=[True, True, False, False],\n",
       "              mask=[False, False, False, False],\n",
       "        fill_value='?',\n",
       "             dtype=object),\n",
       " 'param_normalize': masked_array(data=[True, False, True, False],\n",
       "              mask=[False, False, False, False],\n",
       "        fill_value='?',\n",
       "             dtype=object),\n",
       " 'params': [{'fit_intercept': True, 'normalize': True},\n",
       "  {'fit_intercept': True, 'normalize': False},\n",
       "  {'fit_intercept': False, 'normalize': True},\n",
       "  {'fit_intercept': False, 'normalize': False}],\n",
       " 'split0_test_score': array([-2.33530370e+01, -1.47918052e+08, -2.34143038e+01, -2.34143038e+01]),\n",
       " 'split1_test_score': array([-24.47263982, -24.47203865, -24.39097287, -24.39097287]),\n",
       " 'split2_test_score': array([-25.71557013, -25.71544751, -25.74787283, -25.74787283]),\n",
       " 'split3_test_score': array([-25.10812199, -25.1080649 , -25.11276821, -25.11276821]),\n",
       " 'split4_test_score': array([-29.08310735, -29.08276473, -29.0858438 , -29.0858438 ]),\n",
       " 'split5_test_score': array([-33.54603013, -33.54441412, -34.09820539, -34.09820539]),\n",
       " 'mean_test_score': array([-2.68797511e+01, -2.46530316e+07, -2.69749945e+01, -2.69749945e+01]),\n",
       " 'std_test_score': array([3.46458124e+00, 5.51257929e+07, 3.64063223e+00, 3.64063223e+00]),\n",
       " 'rank_test_score': array([1, 4, 2, 2])}"
      ]
     },
     "execution_count": 34,
     "metadata": {},
     "output_type": "execute_result"
    }
   ],
   "source": [
    "grid_search.cv_results_"
   ]
  },
  {
   "cell_type": "code",
   "execution_count": 35,
   "id": "b4f05d8f",
   "metadata": {},
   "outputs": [],
   "source": [
    "test_score_lr = abs(cv_results['test_score'].mean())"
   ]
  },
  {
   "cell_type": "code",
   "execution_count": 36,
   "id": "ed7d4751",
   "metadata": {},
   "outputs": [
    {
     "data": {
      "text/plain": [
       "25.78667560899396"
      ]
     },
     "execution_count": 36,
     "metadata": {},
     "output_type": "execute_result"
    }
   ],
   "source": [
    "test_score_lr"
   ]
  },
  {
   "cell_type": "markdown",
   "id": "4ae29f92",
   "metadata": {},
   "source": [
    "### LightGBMRegression"
   ]
  },
  {
   "cell_type": "code",
   "execution_count": 37,
   "id": "4f4fed4e",
   "metadata": {},
   "outputs": [
    {
     "name": "stdout",
     "output_type": "stream",
     "text": [
      "<class 'pandas.core.frame.DataFrame'>\n",
      "DatetimeIndex: 3950 entries, 2018-03-02 00:00:00 to 2018-08-13 13:00:00\n",
      "Freq: H\n",
      "Data columns (total 28 columns):\n",
      " #   Column        Non-Null Count  Dtype   \n",
      "---  ------        --------------  -----   \n",
      " 0   month         3950 non-null   category\n",
      " 1   dayofweek     3950 non-null   category\n",
      " 2   hour          3950 non-null   category\n",
      " 3   lag_1         3950 non-null   float64 \n",
      " 4   lag_2         3950 non-null   float64 \n",
      " 5   lag_3         3950 non-null   float64 \n",
      " 6   lag_4         3950 non-null   float64 \n",
      " 7   lag_5         3950 non-null   float64 \n",
      " 8   lag_6         3950 non-null   float64 \n",
      " 9   lag_7         3950 non-null   float64 \n",
      " 10  lag_8         3950 non-null   float64 \n",
      " 11  lag_9         3950 non-null   float64 \n",
      " 12  lag_10        3950 non-null   float64 \n",
      " 13  lag_11        3950 non-null   float64 \n",
      " 14  lag_12        3950 non-null   float64 \n",
      " 15  lag_13        3950 non-null   float64 \n",
      " 16  lag_14        3950 non-null   float64 \n",
      " 17  lag_15        3950 non-null   float64 \n",
      " 18  lag_16        3950 non-null   float64 \n",
      " 19  lag_17        3950 non-null   float64 \n",
      " 20  lag_18        3950 non-null   float64 \n",
      " 21  lag_19        3950 non-null   float64 \n",
      " 22  lag_20        3950 non-null   float64 \n",
      " 23  lag_21        3950 non-null   float64 \n",
      " 24  lag_22        3950 non-null   float64 \n",
      " 25  lag_23        3950 non-null   float64 \n",
      " 26  lag_24        3950 non-null   float64 \n",
      " 27  rolling_mean  3950 non-null   float64 \n",
      "dtypes: category(3), float64(25)\n",
      "memory usage: 815.2 KB\n"
     ]
    }
   ],
   "source": [
    "categorial = ['month','dayofweek','hour']\n",
    "\n",
    "for column in categorial:\n",
    "    features_train[column] = features_train[column].astype('category')\n",
    "    features_test[column] = features_test[column].astype('category')\n",
    "    \n",
    "features_train.info()"
   ]
  },
  {
   "cell_type": "code",
   "execution_count": 38,
   "id": "ffe6692d",
   "metadata": {},
   "outputs": [],
   "source": [
    "model_lgbmr = LGBMRegressor()"
   ]
  },
  {
   "cell_type": "code",
   "execution_count": 39,
   "id": "d52c0e45",
   "metadata": {},
   "outputs": [],
   "source": [
    "parameters = [{'learning_rate': [0.01, 0.1],\n",
    "                       'n_estimators': [50, 100, 200],\n",
    "                       'num_leaves': [15, 30, 50]}]\n",
    "\n",
    "cv_split_lgbmr = TimeSeriesSplit(n_splits=6).split(features_train)"
   ]
  },
  {
   "cell_type": "code",
   "execution_count": 40,
   "id": "7abbf56b",
   "metadata": {
    "scrolled": true
   },
   "outputs": [
    {
     "name": "stdout",
     "output_type": "stream",
     "text": [
      "Fitting 6 folds for each of 18 candidates, totalling 108 fits\n",
      "[CV 1/6] END learning_rate=0.01, n_estimators=50, num_leaves=15;, score=-24.229 total time=   0.0s\n",
      "[CV 2/6] END learning_rate=0.01, n_estimators=50, num_leaves=15;, score=-29.493 total time=   0.0s\n",
      "[CV 3/6] END learning_rate=0.01, n_estimators=50, num_leaves=15;, score=-31.942 total time=   0.0s\n",
      "[CV 4/6] END learning_rate=0.01, n_estimators=50, num_leaves=15;, score=-29.438 total time=   0.0s\n",
      "[CV 5/6] END learning_rate=0.01, n_estimators=50, num_leaves=15;, score=-36.472 total time=   0.0s\n",
      "[CV 6/6] END learning_rate=0.01, n_estimators=50, num_leaves=15;, score=-47.368 total time=   0.0s\n",
      "[CV 1/6] END learning_rate=0.01, n_estimators=50, num_leaves=30;, score=-24.220 total time=   0.0s\n",
      "[CV 2/6] END learning_rate=0.01, n_estimators=50, num_leaves=30;, score=-29.282 total time=   0.0s\n",
      "[CV 3/6] END learning_rate=0.01, n_estimators=50, num_leaves=30;, score=-31.603 total time=   0.1s\n",
      "[CV 4/6] END learning_rate=0.01, n_estimators=50, num_leaves=30;, score=-28.994 total time=   0.1s\n",
      "[CV 5/6] END learning_rate=0.01, n_estimators=50, num_leaves=30;, score=-35.883 total time=   0.1s\n",
      "[CV 6/6] END learning_rate=0.01, n_estimators=50, num_leaves=30;, score=-46.311 total time=   0.1s\n",
      "[CV 1/6] END learning_rate=0.01, n_estimators=50, num_leaves=50;, score=-24.220 total time=   0.0s\n",
      "[CV 2/6] END learning_rate=0.01, n_estimators=50, num_leaves=50;, score=-29.177 total time=   0.1s\n",
      "[CV 3/6] END learning_rate=0.01, n_estimators=50, num_leaves=50;, score=-31.432 total time=   0.1s\n",
      "[CV 4/6] END learning_rate=0.01, n_estimators=50, num_leaves=50;, score=-29.025 total time=   0.1s\n",
      "[CV 5/6] END learning_rate=0.01, n_estimators=50, num_leaves=50;, score=-35.441 total time=   0.2s\n",
      "[CV 6/6] END learning_rate=0.01, n_estimators=50, num_leaves=50;, score=-45.764 total time=   0.2s\n",
      "[CV 1/6] END learning_rate=0.01, n_estimators=100, num_leaves=15;, score=-22.258 total time=   0.0s\n",
      "[CV 2/6] END learning_rate=0.01, n_estimators=100, num_leaves=15;, score=-26.908 total time=   0.1s\n",
      "[CV 3/6] END learning_rate=0.01, n_estimators=100, num_leaves=15;, score=-28.388 total time=   0.1s\n",
      "[CV 4/6] END learning_rate=0.01, n_estimators=100, num_leaves=15;, score=-26.266 total time=   0.1s\n",
      "[CV 5/6] END learning_rate=0.01, n_estimators=100, num_leaves=15;, score=-32.161 total time=   0.1s\n",
      "[CV 6/6] END learning_rate=0.01, n_estimators=100, num_leaves=15;, score=-41.664 total time=   0.2s\n",
      "[CV 1/6] END learning_rate=0.01, n_estimators=100, num_leaves=30;, score=-22.430 total time=   0.0s\n",
      "[CV 2/6] END learning_rate=0.01, n_estimators=100, num_leaves=30;, score=-26.625 total time=   0.1s\n",
      "[CV 3/6] END learning_rate=0.01, n_estimators=100, num_leaves=30;, score=-27.567 total time=   0.2s\n",
      "[CV 4/6] END learning_rate=0.01, n_estimators=100, num_leaves=30;, score=-25.619 total time=   0.2s\n",
      "[CV 5/6] END learning_rate=0.01, n_estimators=100, num_leaves=30;, score=-31.599 total time=   0.3s\n",
      "[CV 6/6] END learning_rate=0.01, n_estimators=100, num_leaves=30;, score=-40.094 total time=   0.3s\n",
      "[CV 1/6] END learning_rate=0.01, n_estimators=100, num_leaves=50;, score=-22.430 total time=   0.0s\n",
      "[CV 2/6] END learning_rate=0.01, n_estimators=100, num_leaves=50;, score=-26.648 total time=   0.1s\n",
      "[CV 3/6] END learning_rate=0.01, n_estimators=100, num_leaves=50;, score=-27.684 total time=   0.2s\n",
      "[CV 4/6] END learning_rate=0.01, n_estimators=100, num_leaves=50;, score=-25.488 total time=   0.2s\n",
      "[CV 5/6] END learning_rate=0.01, n_estimators=100, num_leaves=50;, score=-31.148 total time=   0.3s\n",
      "[CV 6/6] END learning_rate=0.01, n_estimators=100, num_leaves=50;, score=-39.346 total time=   0.3s\n",
      "[CV 1/6] END learning_rate=0.01, n_estimators=200, num_leaves=15;, score=-21.750 total time=   0.1s\n",
      "[CV 2/6] END learning_rate=0.01, n_estimators=200, num_leaves=15;, score=-24.772 total time=   0.1s\n",
      "[CV 3/6] END learning_rate=0.01, n_estimators=200, num_leaves=15;, score=-25.291 total time=   0.1s\n",
      "[CV 4/6] END learning_rate=0.01, n_estimators=200, num_leaves=15;, score=-23.859 total time=   0.2s\n",
      "[CV 5/6] END learning_rate=0.01, n_estimators=200, num_leaves=15;, score=-29.226 total time=   0.2s\n",
      "[CV 6/6] END learning_rate=0.01, n_estimators=200, num_leaves=15;, score=-36.308 total time=   0.2s\n",
      "[CV 1/6] END learning_rate=0.01, n_estimators=200, num_leaves=30;, score=-21.975 total time=   0.1s\n",
      "[CV 2/6] END learning_rate=0.01, n_estimators=200, num_leaves=30;, score=-24.586 total time=   0.2s\n",
      "[CV 3/6] END learning_rate=0.01, n_estimators=200, num_leaves=30;, score=-24.626 total time=   0.3s\n",
      "[CV 4/6] END learning_rate=0.01, n_estimators=200, num_leaves=30;, score=-23.617 total time=   0.3s\n",
      "[CV 5/6] END learning_rate=0.01, n_estimators=200, num_leaves=30;, score=-28.160 total time=   0.4s\n",
      "[CV 6/6] END learning_rate=0.01, n_estimators=200, num_leaves=30;, score=-34.501 total time=   0.4s\n",
      "[CV 1/6] END learning_rate=0.01, n_estimators=200, num_leaves=50;, score=-21.975 total time=   0.1s\n",
      "[CV 2/6] END learning_rate=0.01, n_estimators=200, num_leaves=50;, score=-24.598 total time=   0.3s\n",
      "[CV 3/6] END learning_rate=0.01, n_estimators=200, num_leaves=50;, score=-24.679 total time=   0.4s\n",
      "[CV 4/6] END learning_rate=0.01, n_estimators=200, num_leaves=50;, score=-23.608 total time=   0.5s\n",
      "[CV 5/6] END learning_rate=0.01, n_estimators=200, num_leaves=50;, score=-27.832 total time=   0.6s\n",
      "[CV 6/6] END learning_rate=0.01, n_estimators=200, num_leaves=50;, score=-33.844 total time=   0.6s\n",
      "[CV 1/6] END learning_rate=0.1, n_estimators=50, num_leaves=15;, score=-22.489 total time=   0.0s\n",
      "[CV 2/6] END learning_rate=0.1, n_estimators=50, num_leaves=15;, score=-23.541 total time=   0.0s\n",
      "[CV 3/6] END learning_rate=0.1, n_estimators=50, num_leaves=15;, score=-22.834 total time=   0.0s\n",
      "[CV 4/6] END learning_rate=0.1, n_estimators=50, num_leaves=15;, score=-22.952 total time=   0.0s\n",
      "[CV 5/6] END learning_rate=0.1, n_estimators=50, num_leaves=15;, score=-26.879 total time=   0.0s\n",
      "[CV 6/6] END learning_rate=0.1, n_estimators=50, num_leaves=15;, score=-31.982 total time=   0.0s\n",
      "[CV 1/6] END learning_rate=0.1, n_estimators=50, num_leaves=30;, score=-22.341 total time=   0.0s\n",
      "[CV 2/6] END learning_rate=0.1, n_estimators=50, num_leaves=30;, score=-23.537 total time=   0.0s\n",
      "[CV 3/6] END learning_rate=0.1, n_estimators=50, num_leaves=30;, score=-23.028 total time=   0.0s\n",
      "[CV 4/6] END learning_rate=0.1, n_estimators=50, num_leaves=30;, score=-23.185 total time=   0.0s\n",
      "[CV 5/6] END learning_rate=0.1, n_estimators=50, num_leaves=30;, score=-26.668 total time=   0.1s\n",
      "[CV 6/6] END learning_rate=0.1, n_estimators=50, num_leaves=30;, score=-31.295 total time=   0.1s\n",
      "[CV 1/6] END learning_rate=0.1, n_estimators=50, num_leaves=50;, score=-22.341 total time=   0.0s\n",
      "[CV 2/6] END learning_rate=0.1, n_estimators=50, num_leaves=50;, score=-23.845 total time=   0.0s\n",
      "[CV 3/6] END learning_rate=0.1, n_estimators=50, num_leaves=50;, score=-23.486 total time=   0.1s\n",
      "[CV 4/6] END learning_rate=0.1, n_estimators=50, num_leaves=50;, score=-22.940 total time=   0.1s\n",
      "[CV 5/6] END learning_rate=0.1, n_estimators=50, num_leaves=50;, score=-25.980 total time=   0.1s\n",
      "[CV 6/6] END learning_rate=0.1, n_estimators=50, num_leaves=50;, score=-30.914 total time=   0.1s\n",
      "[CV 1/6] END learning_rate=0.1, n_estimators=100, num_leaves=15;, score=-23.121 total time=   0.0s\n",
      "[CV 2/6] END learning_rate=0.1, n_estimators=100, num_leaves=15;, score=-23.530 total time=   0.0s\n",
      "[CV 3/6] END learning_rate=0.1, n_estimators=100, num_leaves=15;, score=-22.853 total time=   0.0s\n",
      "[CV 4/6] END learning_rate=0.1, n_estimators=100, num_leaves=15;, score=-22.862 total time=   0.0s\n",
      "[CV 5/6] END learning_rate=0.1, n_estimators=100, num_leaves=15;, score=-26.411 total time=   0.1s\n",
      "[CV 6/6] END learning_rate=0.1, n_estimators=100, num_leaves=15;, score=-31.487 total time=   0.1s\n",
      "[CV 1/6] END learning_rate=0.1, n_estimators=100, num_leaves=30;, score=-22.683 total time=   0.0s\n",
      "[CV 2/6] END learning_rate=0.1, n_estimators=100, num_leaves=30;, score=-23.421 total time=   0.1s\n",
      "[CV 3/6] END learning_rate=0.1, n_estimators=100, num_leaves=30;, score=-23.224 total time=   0.1s\n",
      "[CV 4/6] END learning_rate=0.1, n_estimators=100, num_leaves=30;, score=-23.121 total time=   0.1s\n"
     ]
    },
    {
     "name": "stdout",
     "output_type": "stream",
     "text": [
      "[CV 5/6] END learning_rate=0.1, n_estimators=100, num_leaves=30;, score=-26.469 total time=   0.1s\n",
      "[CV 6/6] END learning_rate=0.1, n_estimators=100, num_leaves=30;, score=-31.148 total time=   0.2s\n",
      "[CV 1/6] END learning_rate=0.1, n_estimators=100, num_leaves=50;, score=-22.683 total time=   0.0s\n",
      "[CV 2/6] END learning_rate=0.1, n_estimators=100, num_leaves=50;, score=-24.194 total time=   0.1s\n",
      "[CV 3/6] END learning_rate=0.1, n_estimators=100, num_leaves=50;, score=-23.349 total time=   0.2s\n",
      "[CV 4/6] END learning_rate=0.1, n_estimators=100, num_leaves=50;, score=-22.982 total time=   0.2s\n",
      "[CV 5/6] END learning_rate=0.1, n_estimators=100, num_leaves=50;, score=-26.011 total time=   0.2s\n",
      "[CV 6/6] END learning_rate=0.1, n_estimators=100, num_leaves=50;, score=-30.885 total time=   0.3s\n",
      "[CV 1/6] END learning_rate=0.1, n_estimators=200, num_leaves=15;, score=-23.302 total time=   0.0s\n",
      "[CV 2/6] END learning_rate=0.1, n_estimators=200, num_leaves=15;, score=-23.703 total time=   0.1s\n",
      "[CV 3/6] END learning_rate=0.1, n_estimators=200, num_leaves=15;, score=-22.994 total time=   0.1s\n",
      "[CV 4/6] END learning_rate=0.1, n_estimators=200, num_leaves=15;, score=-22.830 total time=   0.1s\n",
      "[CV 5/6] END learning_rate=0.1, n_estimators=200, num_leaves=15;, score=-26.686 total time=   0.2s\n",
      "[CV 6/6] END learning_rate=0.1, n_estimators=200, num_leaves=15;, score=-31.411 total time=   0.2s\n",
      "[CV 1/6] END learning_rate=0.1, n_estimators=200, num_leaves=30;, score=-22.795 total time=   0.1s\n",
      "[CV 2/6] END learning_rate=0.1, n_estimators=200, num_leaves=30;, score=-23.474 total time=   0.2s\n",
      "[CV 3/6] END learning_rate=0.1, n_estimators=200, num_leaves=30;, score=-23.419 total time=   0.3s\n",
      "[CV 4/6] END learning_rate=0.1, n_estimators=200, num_leaves=30;, score=-23.323 total time=   0.3s\n",
      "[CV 5/6] END learning_rate=0.1, n_estimators=200, num_leaves=30;, score=-26.416 total time=   0.3s\n",
      "[CV 6/6] END learning_rate=0.1, n_estimators=200, num_leaves=30;, score=-31.512 total time=   0.3s\n",
      "[CV 1/6] END learning_rate=0.1, n_estimators=200, num_leaves=50;, score=-22.795 total time=   0.1s\n",
      "[CV 2/6] END learning_rate=0.1, n_estimators=200, num_leaves=50;, score=-24.365 total time=   0.3s\n",
      "[CV 3/6] END learning_rate=0.1, n_estimators=200, num_leaves=50;, score=-23.369 total time=   0.4s\n",
      "[CV 4/6] END learning_rate=0.1, n_estimators=200, num_leaves=50;, score=-22.983 total time=   0.5s\n",
      "[CV 5/6] END learning_rate=0.1, n_estimators=200, num_leaves=50;, score=-26.044 total time=   0.5s\n",
      "[CV 6/6] END learning_rate=0.1, n_estimators=200, num_leaves=50;, score=-30.978 total time=   0.5s\n"
     ]
    },
    {
     "data": {
      "text/plain": [
       "GridSearchCV(cv=<generator object TimeSeriesSplit.split at 0x0000014958F99190>,\n",
       "             estimator=LGBMRegressor(), n_jobs=1,\n",
       "             param_grid=[{'learning_rate': [0.01, 0.1],\n",
       "                          'n_estimators': [50, 100, 200],\n",
       "                          'num_leaves': [15, 30, 50]}],\n",
       "             scoring='neg_root_mean_squared_error', verbose=5)"
      ]
     },
     "execution_count": 40,
     "metadata": {},
     "output_type": "execute_result"
    }
   ],
   "source": [
    "grid_search = GridSearchCV(model_lgbmr, \n",
    "                           n_jobs = 1, \n",
    "                           param_grid = parameters, \n",
    "                           cv = cv_split_lgbmr, \n",
    "                           scoring = \"neg_root_mean_squared_error\", \n",
    "                           verbose = 5)\n",
    "grid_search.fit(features_train,target_train)"
   ]
  },
  {
   "cell_type": "code",
   "execution_count": 41,
   "id": "19411a2b",
   "metadata": {},
   "outputs": [],
   "source": [
    "best_index = grid_search.best_index_"
   ]
  },
  {
   "cell_type": "code",
   "execution_count": 42,
   "id": "11166ea6",
   "metadata": {},
   "outputs": [],
   "source": [
    "test_score_grid = abs(grid_search.cv_results_['mean_test_score'][best_index])"
   ]
  },
  {
   "cell_type": "code",
   "execution_count": 43,
   "id": "8fc50e49",
   "metadata": {},
   "outputs": [],
   "source": [
    "best_estimator = grid_search.best_estimator_"
   ]
  },
  {
   "cell_type": "code",
   "execution_count": 44,
   "id": "92fde77d",
   "metadata": {},
   "outputs": [
    {
     "name": "stdout",
     "output_type": "stream",
     "text": [
      "Качество модели, метрика RMSE, число заказов: 24.9\n"
     ]
    }
   ],
   "source": [
    "print('Качество модели, метрика RMSE, число заказов: {}'.format(test_score_grid.round(1)))"
   ]
  },
  {
   "cell_type": "markdown",
   "id": "00506e78",
   "metadata": {},
   "source": [
    "LGBMRegressor показал чуть лучший результат метрики RMSE, воспользуемся его результатами, хотя с учетом сложности настройки гиперпараметров это нецелесообразно и LinearRegression представляется более оптимальным вариантом. Тем не менее тестируем модель на LGBMRegressor."
   ]
  },
  {
   "cell_type": "markdown",
   "id": "3620d1a7",
   "metadata": {},
   "source": [
    "## Тестирование"
   ]
  },
  {
   "cell_type": "code",
   "execution_count": 45,
   "id": "2f909b4d",
   "metadata": {},
   "outputs": [],
   "source": [
    "def rmse(target, predictions):\n",
    "    rmse = mean_squared_error(target, predictions)**.5\n",
    "    return rmse"
   ]
  },
  {
   "cell_type": "code",
   "execution_count": 46,
   "id": "34530871",
   "metadata": {},
   "outputs": [
    {
     "name": "stdout",
     "output_type": "stream",
     "text": [
      "RMSE LGBMRegressor на тестовой выборке: 40.57328391869956\n"
     ]
    }
   ],
   "source": [
    "predictions_lgbmr = grid_search.predict(features_test)\n",
    "\n",
    "rmse_lgbmr = rmse(target_test, predictions_lgbmr)\n",
    "\n",
    "print('RMSE LGBMRegressor на тестовой выборке:', rmse_lgbmr)"
   ]
  },
  {
   "cell_type": "markdown",
   "id": "f894f6e7",
   "metadata": {},
   "source": [
    "Исходя из условий поставленной задачи значение метрики RMSE на тестовой выборке должно быть не больше 48, и наше значение удовлетворяет условию."
   ]
  },
  {
   "cell_type": "markdown",
   "id": "ffce3fd3",
   "metadata": {},
   "source": [
    "Посмотрим важность признаков у модели LGBMRegressor"
   ]
  },
  {
   "cell_type": "code",
   "execution_count": 47,
   "id": "4f6b3446",
   "metadata": {},
   "outputs": [
    {
     "data": {
      "image/png": "[encoded data removed]",
      "text/plain": [
       "<Figure size 1080x576 with 1 Axes>"
      ]
     },
     "metadata": {
      "needs_background": "light"
     },
     "output_type": "display_data"
    }
   ],
   "source": [
    "import lightgbm as lgb\n",
    "feature_importance = lgb.plot_importance(best_estimator, \n",
    "                                         color='r', \n",
    "                                         title='Важность признаков lgb', \n",
    "                                         xlabel='Важность признаков', \n",
    "                                         ylabel='Перечень признаков', \n",
    "                                         figsize=(15, 8))"
   ]
  },
  {
   "cell_type": "markdown",
   "id": "da315ef3",
   "metadata": {},
   "source": [
    "Самый важный признак это hour, хотя это было заметно и из анализа данных, а также понятно интуитивно."
   ]
  },
  {
   "cell_type": "markdown",
   "id": "5f37dab4",
   "metadata": {},
   "source": [
    "### Проверка DummyRegressor"
   ]
  },
  {
   "cell_type": "code",
   "execution_count": 48,
   "id": "2b098dce",
   "metadata": {},
   "outputs": [
    {
     "name": "stdout",
     "output_type": "stream",
     "text": [
      "RMSE DummyRegressor на тестовой выборке: 84.6499381993622\n"
     ]
    }
   ],
   "source": [
    "from sklearn.dummy import DummyRegressor\n",
    "\n",
    "dummy = DummyRegressor(strategy='mean')\n",
    "\n",
    "dummy.fit(features_train, target_train)\n",
    "\n",
    "predictions_dummy = dummy.predict(features_test)\n",
    "\n",
    "print('RMSE DummyRegressor на тестовой выборке:', rmse(target_test, predictions_dummy))"
   ]
  },
  {
   "cell_type": "markdown",
   "id": "de2bc6c8",
   "metadata": {},
   "source": [
    "- Метрика RMSE DummyRegressor на тестовой выборке оказалась значительно ниже остальных обученных моделей.\n",
    "\n",
    "- Следовательно наши обученные модели адекватны."
   ]
  },
  {
   "cell_type": "markdown",
   "id": "e90e9368",
   "metadata": {},
   "source": [
    "## Чек-лист проверки"
   ]
  },
  {
   "cell_type": "markdown",
   "id": "4b64eafc",
   "metadata": {},
   "source": [
    "- [x]  Jupyter Notebook открыт\n",
    "- [x]  Весь код выполняется без ошибок\n",
    "- [x]  Ячейки с кодом расположены в порядке исполнения\n",
    "- [x]  Данные загружены и подготовлены\n",
    "- [x]  Данные проанализированы\n",
    "- [x]  Модель обучена, гиперпараметры подобраны\n",
    "- [x]  Качество моделей проверено, выводы сделаны\n",
    "- [x]  Значение *RMSE* на тестовой выборке не больше 48"
   ]
  }
 ],
 "metadata": {
  "ExecuteTimeLog": [
   {
    "duration": 2142,
    "start_time": "2022-09-07T07:23:55.996Z"
   },
   {
    "duration": 164,
    "start_time": "2022-09-07T07:23:58.140Z"
   },
   {
    "duration": 25,
    "start_time": "2022-09-07T07:23:58.306Z"
   },
   {
    "duration": 16,
    "start_time": "2022-09-07T07:23:58.335Z"
   },
   {
    "duration": 11,
    "start_time": "2022-09-07T07:23:58.353Z"
   },
   {
    "duration": 8,
    "start_time": "2022-09-07T07:23:58.366Z"
   },
   {
    "duration": 34,
    "start_time": "2022-09-07T07:23:58.375Z"
   },
   {
    "duration": 11,
    "start_time": "2022-09-07T07:23:58.417Z"
   },
   {
    "duration": 9,
    "start_time": "2022-09-07T07:23:58.432Z"
   },
   {
    "duration": 7,
    "start_time": "2022-09-07T07:23:58.443Z"
   },
   {
    "duration": 12,
    "start_time": "2022-09-07T07:23:58.451Z"
   },
   {
    "duration": 448,
    "start_time": "2022-09-07T07:23:58.465Z"
   },
   {
    "duration": 21,
    "start_time": "2022-09-07T07:23:58.915Z"
   },
   {
    "duration": 8,
    "start_time": "2022-09-07T07:23:58.938Z"
   },
   {
    "duration": 6,
    "start_time": "2022-09-07T07:23:58.948Z"
   },
   {
    "duration": 65,
    "start_time": "2022-09-07T07:23:58.956Z"
   },
   {
    "duration": 93,
    "start_time": "2022-09-07T07:23:59.023Z"
   },
   {
    "duration": 128,
    "start_time": "2022-09-07T07:23:59.118Z"
   },
   {
    "duration": 188,
    "start_time": "2022-09-07T07:23:59.306Z"
   },
   {
    "duration": 31,
    "start_time": "2022-09-07T07:23:59.495Z"
   },
   {
    "duration": 88,
    "start_time": "2022-09-07T07:23:59.537Z"
   },
   {
    "duration": 3147,
    "start_time": "2022-10-02T11:35:35.292Z"
   },
   {
    "duration": 1803,
    "start_time": "2022-10-02T11:35:38.441Z"
   },
   {
    "duration": 17,
    "start_time": "2022-10-02T11:35:40.245Z"
   },
   {
    "duration": 140,
    "start_time": "2022-10-02T11:35:40.265Z"
   },
   {
    "duration": 5,
    "start_time": "2022-10-02T11:35:40.406Z"
   },
   {
    "duration": 8,
    "start_time": "2022-10-02T11:35:40.413Z"
   },
   {
    "duration": 436,
    "start_time": "2022-10-02T11:35:40.433Z"
   },
   {
    "duration": 528,
    "start_time": "2022-10-02T11:35:40.870Z"
   },
   {
    "duration": 124,
    "start_time": "2022-10-02T11:35:41.400Z"
   },
   {
    "duration": 102,
    "start_time": "2022-10-02T11:35:41.533Z"
   },
   {
    "duration": 182,
    "start_time": "2022-10-02T11:35:41.637Z"
   },
   {
    "duration": 35,
    "start_time": "2022-10-02T11:35:41.821Z"
   },
   {
    "duration": 3,
    "start_time": "2022-10-02T11:35:41.858Z"
   },
   {
    "duration": 71,
    "start_time": "2022-10-02T11:35:41.862Z"
   },
   {
    "duration": 127,
    "start_time": "2022-10-02T11:35:41.935Z"
   },
   {
    "duration": 13,
    "start_time": "2022-10-02T11:35:42.064Z"
   },
   {
    "duration": 85,
    "start_time": "2022-10-02T11:35:42.078Z"
   },
   {
    "duration": 612,
    "start_time": "2022-10-02T11:35:42.165Z"
   },
   {
    "duration": 219,
    "start_time": "2022-10-02T11:35:42.778Z"
   },
   {
    "duration": 37,
    "start_time": "2022-10-02T11:35:42.998Z"
   },
   {
    "duration": 26,
    "start_time": "2022-10-02T11:35:43.037Z"
   },
   {
    "duration": 105,
    "start_time": "2022-10-02T11:35:43.065Z"
   },
   {
    "duration": 377,
    "start_time": "2022-10-02T11:35:43.172Z"
   },
   {
    "duration": 3,
    "start_time": "2022-10-02T11:35:43.552Z"
   },
   {
    "duration": 243,
    "start_time": "2022-10-02T11:35:43.557Z"
   },
   {
    "duration": 41,
    "start_time": "2022-10-02T11:35:43.801Z"
   },
   {
    "duration": 33,
    "start_time": "2022-10-02T11:35:43.844Z"
   },
   {
    "duration": 30,
    "start_time": "2022-10-02T11:35:43.882Z"
   },
   {
    "duration": 31,
    "start_time": "2022-10-02T11:35:43.914Z"
   },
   {
    "duration": 36,
    "start_time": "2022-10-02T11:35:43.947Z"
   },
   {
    "duration": 32,
    "start_time": "2022-10-02T11:35:43.985Z"
   },
   {
    "duration": 21,
    "start_time": "2022-10-02T11:35:44.018Z"
   },
   {
    "duration": 9,
    "start_time": "2022-10-02T11:35:44.041Z"
   },
   {
    "duration": 7,
    "start_time": "2022-10-02T11:35:44.052Z"
   },
   {
    "duration": 28,
    "start_time": "2022-10-02T11:35:44.060Z"
   },
   {
    "duration": 305,
    "start_time": "2022-10-02T11:35:44.089Z"
   },
   {
    "duration": 75,
    "start_time": "2022-10-02T11:35:44.396Z"
   },
   {
    "duration": 281,
    "start_time": "2022-10-02T11:35:44.472Z"
   },
   {
    "duration": 320,
    "start_time": "2022-10-02T11:35:44.754Z"
   },
   {
    "duration": 8,
    "start_time": "2022-10-02T11:35:45.076Z"
   },
   {
    "duration": 18,
    "start_time": "2022-10-02T11:35:45.086Z"
   },
   {
    "duration": 38,
    "start_time": "2022-10-02T11:35:45.105Z"
   },
   {
    "duration": 24,
    "start_time": "2022-10-02T11:35:45.144Z"
   },
   {
    "duration": 267,
    "start_time": "2022-10-02T11:35:45.170Z"
   },
   {
    "duration": 311,
    "start_time": "2022-10-02T11:35:45.438Z"
   },
   {
    "duration": 5,
    "start_time": "2022-10-02T11:35:45.751Z"
   },
   {
    "duration": 156,
    "start_time": "2022-10-02T11:35:45.757Z"
   },
   {
    "duration": 2,
    "start_time": "2022-10-02T11:35:45.915Z"
   },
   {
    "duration": 22,
    "start_time": "2022-10-02T11:35:45.919Z"
   },
   {
    "duration": 42,
    "start_time": "2022-10-02T11:35:45.943Z"
   },
   {
    "duration": 12,
    "start_time": "2022-10-02T11:35:45.987Z"
   },
   {
    "duration": 6,
    "start_time": "2022-10-02T11:35:46.000Z"
   },
   {
    "duration": 167,
    "start_time": "2022-10-02T11:35:46.007Z"
   },
   {
    "duration": 31,
    "start_time": "2022-10-02T11:37:13.831Z"
   },
   {
    "duration": 13,
    "start_time": "2022-10-02T11:37:14.212Z"
   },
   {
    "duration": 2,
    "start_time": "2022-10-02T11:37:14.771Z"
   },
   {
    "duration": 156,
    "start_time": "2022-10-02T11:37:15.670Z"
   },
   {
    "duration": 3,
    "start_time": "2022-10-02T11:37:23.008Z"
   },
   {
    "duration": 1206,
    "start_time": "2022-10-02T11:37:23.816Z"
   },
   {
    "duration": 2675,
    "start_time": "2022-10-02T11:37:33.462Z"
   }
  ],
  "kernelspec": {
   "display_name": "Python 3 (ipykernel)",
   "language": "python",
   "name": "python3"
  },
  "language_info": {
   "codemirror_mode": {
    "name": "ipython",
    "version": 3
   },
   "file_extension": ".py",
   "mimetype": "text/x-python",
   "name": "python",
   "nbconvert_exporter": "python",
   "pygments_lexer": "ipython3",
   "version": "3.9.7"
  },
  "toc": {
   "base_numbering": 1,
   "nav_menu": {},
   "number_sections": true,
   "sideBar": true,
   "skip_h1_title": true,
   "title_cell": "Table of Contents",
   "title_sidebar": "Contents",
   "toc_cell": false,
   "toc_position": {},
   "toc_section_display": true,
   "toc_window_display": false
  }
 },
 "nbformat": 4,
 "nbformat_minor": 5
}
